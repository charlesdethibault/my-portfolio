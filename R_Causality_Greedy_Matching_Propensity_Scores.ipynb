{
  "nbformat": 4,
  "nbformat_minor": 0,
  "metadata": {
    "colab": {
      "name": "R_Causality_Greedy_Matching_Propensity Scores.ipynb",
      "provenance": [],
      "collapsed_sections": []
    },
    "kernelspec": {
      "name": "ir",
      "display_name": "R"
    }
  },
  "cells": [
    {
      "cell_type": "markdown",
      "metadata": {
        "id": "W0lCCEGrytFd",
        "colab_type": "text"
      },
      "source": [
        "This notebook includes the notes and the exercises of Week 3 of Crash course in Causality, Penn University\n",
        "\n",
        "Colab Link: https://colab.research.google.com/drive/1_Sn5X7A7QhPGlrfDXeRJAzV752_0XtUi\n",
        "\n",
        "References:\n",
        "- Crash course in Causality, Penn University, Coursera\n",
        "- https://sejdemyr.github.io/r-tutorials/statistics/tutorial8.html \n",
        "- https://rpubs.com/willdebras/causalinf"
      ]
    },
    {
      "cell_type": "markdown",
      "metadata": {
        "id": "vpYnZoscyN6l",
        "colab_type": "text"
      },
      "source": [
        "**Set Environment**\n"
      ]
    },
    {
      "cell_type": "code",
      "metadata": {
        "id": "rCEtur7fajGn",
        "colab_type": "code",
        "outputId": "f66c9a4e-88a8-4570-d7b2-effcf6efdbd1",
        "colab": {
          "base_uri": "https://localhost:8080/",
          "height": 102
        }
      },
      "source": [
        "#set R environment\n",
        "cat(system('python3 -c \"from google.colab import drive\\ndrive.mount()\"', intern=TRUE), sep='\\n', wait=TRUE)"
      ],
      "execution_count": 1,
      "outputs": [
        {
          "output_type": "stream",
          "text": [
            "Warning message in system(\"python3 -c \\\"from google.colab import drive\\ndrive.mount()\\\"\", :\n",
            "“running command 'python3 -c \"from google.colab import drive\n",
            "drive.mount()\"' had status 1”\n"
          ],
          "name": "stderr"
        },
        {
          "output_type": "stream",
          "text": [
            "\n",
            "TRUE\n"
          ],
          "name": "stdout"
        }
      ]
    },
    {
      "cell_type": "code",
      "metadata": {
        "id": "3i0-FV1wrTWZ",
        "colab_type": "code",
        "outputId": "be0fc832-115c-452f-c75a-9ed22b1b7924",
        "colab": {
          "base_uri": "https://localhost:8080/",
          "height": 241
        }
      },
      "source": [
        "install.packages('tableone')\n",
        "install.packages('Matching')\n",
        "install.packages('MatchIt')"
      ],
      "execution_count": 2,
      "outputs": [
        {
          "output_type": "stream",
          "text": [
            "Installing package into ‘/usr/local/lib/R/site-library’\n",
            "(as ‘lib’ is unspecified)\n",
            "\n",
            "also installing the dependencies ‘gtools’, ‘nloptr’, ‘statmod’, ‘RcppEigen’, ‘minqa’, ‘numDeriv’, ‘mitools’, ‘gdata’, ‘lme4’, ‘survey’, ‘e1071’, ‘zoo’, ‘gmodels’, ‘lmerTest’, ‘labelled’\n",
            "\n",
            "\n",
            "Installing package into ‘/usr/local/lib/R/site-library’\n",
            "(as ‘lib’ is unspecified)\n",
            "\n",
            "Installing package into ‘/usr/local/lib/R/site-library’\n",
            "(as ‘lib’ is unspecified)\n",
            "\n"
          ],
          "name": "stderr"
        }
      ]
    },
    {
      "cell_type": "code",
      "metadata": {
        "id": "dQ5Kv5CXrbbO",
        "colab_type": "code",
        "outputId": "1f07effa-9ed7-4f04-d3e1-303b66760ca2",
        "colab": {
          "base_uri": "https://localhost:8080/",
          "height": 221
        }
      },
      "source": [
        "library('tableone')\n",
        "library('Matching')\n",
        "library('MatchIt')"
      ],
      "execution_count": 3,
      "outputs": [
        {
          "output_type": "stream",
          "text": [
            "Loading required package: MASS\n",
            "\n",
            "## \n",
            "##  Matching (Version 4.9-7, Build Date: 2020-02-05)\n",
            "##  See http://sekhon.berkeley.edu/matching for additional documentation.\n",
            "##  Please cite software as:\n",
            "##   Jasjeet S. Sekhon. 2011. ``Multivariate and Propensity Score Matching\n",
            "##   Software with Automated Balance Optimization: The Matching package for R.''\n",
            "##   Journal of Statistical Software, 42(7): 1-52. \n",
            "##\n",
            "\n",
            "\n"
          ],
          "name": "stderr"
        }
      ]
    },
    {
      "cell_type": "markdown",
      "metadata": {
        "id": "Vs41HWy8yTvw",
        "colab_type": "text"
      },
      "source": [
        "**Load Data**"
      ]
    },
    {
      "cell_type": "code",
      "metadata": {
        "id": "t4vYqezz3xu5",
        "colab_type": "code",
        "colab": {}
      },
      "source": [
        "df <- read.csv(url(\"http://biostat.mc.vanderbilt.edu/wiki/pub/Main/DataSets/rhc.csv\"))"
      ],
      "execution_count": 0,
      "outputs": []
    },
    {
      "cell_type": "code",
      "metadata": {
        "id": "9Lc1wcnU2FI0",
        "colab_type": "code",
        "colab": {
          "base_uri": "https://localhost:8080/",
          "height": 204
        },
        "outputId": "2444655f-3987-4454-a4cb-c91857f7936d"
      },
      "source": [
        "head(df)"
      ],
      "execution_count": 5,
      "outputs": [
        {
          "output_type": "display_data",
          "data": {
            "text/plain": [
              "  X cat1              cat2          ca  sadmdte dschdte dthdte lstctdte death\n",
              "1 1 COPD              NA            Yes 11142   11151      NA  11382    No   \n",
              "2 2 MOSF w/Sepsis     NA            No  11799   11844   11844  11844    Yes  \n",
              "3 3 MOSF w/Malignancy MOSF w/Sepsis Yes 12083   12143      NA  12400    No   \n",
              "4 4 ARF               NA            No  11146   11183   11183  11182    Yes  \n",
              "5 5 MOSF w/Sepsis     NA            No  12035   12037   12037  12036    Yes  \n",
              "6 6 COPD              NA            No  12389   12396      NA  12590    No   \n",
              "  cardiohx ⋯ meta hema seps trauma ortho adld3p urin1 race  income     ptid\n",
              "1 0        ⋯ No   No   No   No     No     0       NA  white Under $11k  5  \n",
              "2 1        ⋯ No   No   Yes  No     No    NA     1437  white Under $11k  7  \n",
              "3 0        ⋯ No   No   No   No     No    NA      599  white $25-$50k    9  \n",
              "4 0        ⋯ No   No   No   No     No    NA       NA  white $11-$25k   10  \n",
              "5 0        ⋯ No   No   No   No     No    NA       64  white Under $11k 11  \n",
              "6 0        ⋯ No   No   No   No     No     0      242  white Under $11k 12  "
            ],
            "text/latex": "A data.frame: 6 × 63\n\\begin{tabular}{r|lllllllllllllllllllll}\n  & X & cat1 & cat2 & ca & sadmdte & dschdte & dthdte & lstctdte & death & cardiohx & ⋯ & meta & hema & seps & trauma & ortho & adld3p & urin1 & race & income & ptid\\\\\n  & <int> & <fct> & <fct> & <fct> & <int> & <int> & <int> & <int> & <fct> & <int> & ⋯ & <fct> & <fct> & <fct> & <fct> & <fct> & <int> & <dbl> & <fct> & <fct> & <int>\\\\\n\\hline\n\t1 & 1 & COPD              & NA            & Yes & 11142 & 11151 &    NA & 11382 & No  & 0 & ⋯ & No & No & No  & No & No &  0 &   NA & white & Under \\$11k &  5\\\\\n\t2 & 2 & MOSF w/Sepsis     & NA            & No  & 11799 & 11844 & 11844 & 11844 & Yes & 1 & ⋯ & No & No & Yes & No & No & NA & 1437 & white & Under \\$11k &  7\\\\\n\t3 & 3 & MOSF w/Malignancy & MOSF w/Sepsis & Yes & 12083 & 12143 &    NA & 12400 & No  & 0 & ⋯ & No & No & No  & No & No & NA &  599 & white & \\$25-\\$50k   &  9\\\\\n\t4 & 4 & ARF               & NA            & No  & 11146 & 11183 & 11183 & 11182 & Yes & 0 & ⋯ & No & No & No  & No & No & NA &   NA & white & \\$11-\\$25k   & 10\\\\\n\t5 & 5 & MOSF w/Sepsis     & NA            & No  & 12035 & 12037 & 12037 & 12036 & Yes & 0 & ⋯ & No & No & No  & No & No & NA &   64 & white & Under \\$11k & 11\\\\\n\t6 & 6 & COPD              & NA            & No  & 12389 & 12396 &    NA & 12590 & No  & 0 & ⋯ & No & No & No  & No & No &  0 &  242 & white & Under \\$11k & 12\\\\\n\\end{tabular}\n",
            "text/markdown": "\nA data.frame: 6 × 63\n\n| <!--/--> | X &lt;int&gt; | cat1 &lt;fct&gt; | cat2 &lt;fct&gt; | ca &lt;fct&gt; | sadmdte &lt;int&gt; | dschdte &lt;int&gt; | dthdte &lt;int&gt; | lstctdte &lt;int&gt; | death &lt;fct&gt; | cardiohx &lt;int&gt; | ⋯ ⋯ | meta &lt;fct&gt; | hema &lt;fct&gt; | seps &lt;fct&gt; | trauma &lt;fct&gt; | ortho &lt;fct&gt; | adld3p &lt;int&gt; | urin1 &lt;dbl&gt; | race &lt;fct&gt; | income &lt;fct&gt; | ptid &lt;int&gt; |\n|---|---|---|---|---|---|---|---|---|---|---|---|---|---|---|---|---|---|---|---|---|---|\n| 1 | 1 | COPD              | NA            | Yes | 11142 | 11151 |    NA | 11382 | No  | 0 | ⋯ | No | No | No  | No | No |  0 |   NA | white | Under $11k |  5 |\n| 2 | 2 | MOSF w/Sepsis     | NA            | No  | 11799 | 11844 | 11844 | 11844 | Yes | 1 | ⋯ | No | No | Yes | No | No | NA | 1437 | white | Under $11k |  7 |\n| 3 | 3 | MOSF w/Malignancy | MOSF w/Sepsis | Yes | 12083 | 12143 |    NA | 12400 | No  | 0 | ⋯ | No | No | No  | No | No | NA |  599 | white | $25-$50k   |  9 |\n| 4 | 4 | ARF               | NA            | No  | 11146 | 11183 | 11183 | 11182 | Yes | 0 | ⋯ | No | No | No  | No | No | NA |   NA | white | $11-$25k   | 10 |\n| 5 | 5 | MOSF w/Sepsis     | NA            | No  | 12035 | 12037 | 12037 | 12036 | Yes | 0 | ⋯ | No | No | No  | No | No | NA |   64 | white | Under $11k | 11 |\n| 6 | 6 | COPD              | NA            | No  | 12389 | 12396 |    NA | 12590 | No  | 0 | ⋯ | No | No | No  | No | No |  0 |  242 | white | Under $11k | 12 |\n\n",
            "text/html": [
              "<table>\n",
              "<caption>A data.frame: 6 × 63</caption>\n",
              "<thead>\n",
              "\t<tr><th></th><th scope=col>X</th><th scope=col>cat1</th><th scope=col>cat2</th><th scope=col>ca</th><th scope=col>sadmdte</th><th scope=col>dschdte</th><th scope=col>dthdte</th><th scope=col>lstctdte</th><th scope=col>death</th><th scope=col>cardiohx</th><th scope=col>⋯</th><th scope=col>meta</th><th scope=col>hema</th><th scope=col>seps</th><th scope=col>trauma</th><th scope=col>ortho</th><th scope=col>adld3p</th><th scope=col>urin1</th><th scope=col>race</th><th scope=col>income</th><th scope=col>ptid</th></tr>\n",
              "\t<tr><th></th><th scope=col>&lt;int&gt;</th><th scope=col>&lt;fct&gt;</th><th scope=col>&lt;fct&gt;</th><th scope=col>&lt;fct&gt;</th><th scope=col>&lt;int&gt;</th><th scope=col>&lt;int&gt;</th><th scope=col>&lt;int&gt;</th><th scope=col>&lt;int&gt;</th><th scope=col>&lt;fct&gt;</th><th scope=col>&lt;int&gt;</th><th scope=col>⋯</th><th scope=col>&lt;fct&gt;</th><th scope=col>&lt;fct&gt;</th><th scope=col>&lt;fct&gt;</th><th scope=col>&lt;fct&gt;</th><th scope=col>&lt;fct&gt;</th><th scope=col>&lt;int&gt;</th><th scope=col>&lt;dbl&gt;</th><th scope=col>&lt;fct&gt;</th><th scope=col>&lt;fct&gt;</th><th scope=col>&lt;int&gt;</th></tr>\n",
              "</thead>\n",
              "<tbody>\n",
              "\t<tr><th scope=row>1</th><td>1</td><td>COPD             </td><td>NA           </td><td>Yes</td><td>11142</td><td>11151</td><td>   NA</td><td>11382</td><td>No </td><td>0</td><td>⋯</td><td>No</td><td>No</td><td>No </td><td>No</td><td>No</td><td> 0</td><td>  NA</td><td>white</td><td>Under $11k</td><td> 5</td></tr>\n",
              "\t<tr><th scope=row>2</th><td>2</td><td>MOSF w/Sepsis    </td><td>NA           </td><td>No </td><td>11799</td><td>11844</td><td>11844</td><td>11844</td><td>Yes</td><td>1</td><td>⋯</td><td>No</td><td>No</td><td>Yes</td><td>No</td><td>No</td><td>NA</td><td>1437</td><td>white</td><td>Under $11k</td><td> 7</td></tr>\n",
              "\t<tr><th scope=row>3</th><td>3</td><td>MOSF w/Malignancy</td><td>MOSF w/Sepsis</td><td>Yes</td><td>12083</td><td>12143</td><td>   NA</td><td>12400</td><td>No </td><td>0</td><td>⋯</td><td>No</td><td>No</td><td>No </td><td>No</td><td>No</td><td>NA</td><td> 599</td><td>white</td><td>$25-$50k  </td><td> 9</td></tr>\n",
              "\t<tr><th scope=row>4</th><td>4</td><td>ARF              </td><td>NA           </td><td>No </td><td>11146</td><td>11183</td><td>11183</td><td>11182</td><td>Yes</td><td>0</td><td>⋯</td><td>No</td><td>No</td><td>No </td><td>No</td><td>No</td><td>NA</td><td>  NA</td><td>white</td><td>$11-$25k  </td><td>10</td></tr>\n",
              "\t<tr><th scope=row>5</th><td>5</td><td>MOSF w/Sepsis    </td><td>NA           </td><td>No </td><td>12035</td><td>12037</td><td>12037</td><td>12036</td><td>Yes</td><td>0</td><td>⋯</td><td>No</td><td>No</td><td>No </td><td>No</td><td>No</td><td>NA</td><td>  64</td><td>white</td><td>Under $11k</td><td>11</td></tr>\n",
              "\t<tr><th scope=row>6</th><td>6</td><td>COPD             </td><td>NA           </td><td>No </td><td>12389</td><td>12396</td><td>   NA</td><td>12590</td><td>No </td><td>0</td><td>⋯</td><td>No</td><td>No</td><td>No </td><td>No</td><td>No</td><td> 0</td><td> 242</td><td>white</td><td>Under $11k</td><td>12</td></tr>\n",
              "</tbody>\n",
              "</table>\n"
            ]
          },
          "metadata": {
            "tags": []
          }
        }
      ]
    },
    {
      "cell_type": "code",
      "metadata": {
        "id": "oUISQQ8s45dE",
        "colab_type": "code",
        "colab": {}
      },
      "source": [
        "#create a data set with just these variables, for simplicity\n",
        "ARF<-as.numeric(df$cat1=='ARF')\n",
        "CHF<-as.numeric(df$cat1=='CHF')\n",
        "Cirr<-as.numeric(df$cat1=='Cirrhosis')\n",
        "colcan<-as.numeric(df$cat1=='Colon Cancer')\n",
        "Coma<-as.numeric(df$cat1=='Coma')\n",
        "COPD<-as.numeric(df$cat1=='COPD')\n",
        "lungcan<-as.numeric(df$cat1=='Lung Cancer')\n",
        "MOSF<-as.numeric(df$cat1=='MOSF w/Malignancy')\n",
        "sepsis<-as.numeric(df$cat1=='MOSF w/Sepsis')\n",
        "female<-as.numeric(df$sex=='Female')\n",
        "died<-as.numeric(df$death=='Yes')\n",
        "age<-df$age\n",
        "treatment<-as.numeric(df$swang1=='RHC')\n",
        "meanbp1<-df$meanbp1"
      ],
      "execution_count": 0,
      "outputs": []
    },
    {
      "cell_type": "code",
      "metadata": {
        "colab_type": "code",
        "id": "Mi8XFDmn5Ofq",
        "colab": {}
      },
      "source": [
        "#new dataset\n",
        "mydata<-cbind(ARF,CHF,Cirr,colcan,Coma,lungcan,MOSF,sepsis,\n",
        "              age,female,meanbp1,treatment,died)\n",
        "mydata<-data.frame(mydata)"
      ],
      "execution_count": 0,
      "outputs": []
    },
    {
      "cell_type": "code",
      "metadata": {
        "id": "RMgKw5_05Kvu",
        "colab_type": "code",
        "colab": {}
      },
      "source": [
        "#covariates we will use (shorter list than you would use in practice)\n",
        "xvars<-c(\"ARF\",\"CHF\",\"Cirr\",\"colcan\",\"Coma\",\"lungcan\",\"MOSF\",\"sepsis\",\n",
        "         \"age\",\"female\",\"meanbp1\")"
      ],
      "execution_count": 0,
      "outputs": []
    },
    {
      "cell_type": "code",
      "metadata": {
        "id": "PT8nX8815Kzf",
        "colab_type": "code",
        "outputId": "93daee52-c2de-4889-f593-80ab038d6cbd",
        "colab": {
          "base_uri": "https://localhost:8080/",
          "height": 255
        }
      },
      "source": [
        "#look at a table 1\n",
        "table1<- CreateTableOne(vars=xvars,strata=\"treatment\", data=mydata, test=FALSE)\n",
        "## include standardized mean difference (SMD)\n",
        "print(table1,smd=TRUE)"
      ],
      "execution_count": 9,
      "outputs": [
        {
          "output_type": "stream",
          "text": [
            "                     Stratified by treatment\n",
            "                      0             1             SMD   \n",
            "  n                    3551          2184               \n",
            "  ARF (mean (SD))      0.45 (0.50)   0.42 (0.49)   0.059\n",
            "  CHF (mean (SD))      0.07 (0.25)   0.10 (0.29)   0.095\n",
            "  Cirr (mean (SD))     0.05 (0.22)   0.02 (0.15)   0.145\n",
            "  colcan (mean (SD))   0.00 (0.04)   0.00 (0.02)   0.038\n",
            "  Coma (mean (SD))     0.10 (0.29)   0.04 (0.20)   0.207\n",
            "  lungcan (mean (SD))  0.01 (0.10)   0.00 (0.05)   0.095\n",
            "  MOSF (mean (SD))     0.07 (0.25)   0.07 (0.26)   0.018\n",
            "  sepsis (mean (SD))   0.15 (0.36)   0.32 (0.47)   0.415\n",
            "  age (mean (SD))     61.76 (17.29) 60.75 (15.63)  0.061\n",
            "  female (mean (SD))   0.46 (0.50)   0.41 (0.49)   0.093\n",
            "  meanbp1 (mean (SD)) 84.87 (38.87) 68.20 (34.24)  0.455\n"
          ],
          "name": "stdout"
        }
      ]
    },
    {
      "cell_type": "markdown",
      "metadata": {
        "id": "ahfuW3tZyEfS",
        "colab_type": "text"
      },
      "source": [
        "# Greedy matching on Mahalanobis distance"
      ]
    },
    {
      "cell_type": "markdown",
      "metadata": {
        "id": "_oFT2KJ_7-c7",
        "colab_type": "text"
      },
      "source": [
        "there is 0.054 more probability to die from the treatment with p-value = 8.799e-05"
      ]
    },
    {
      "cell_type": "code",
      "metadata": {
        "id": "uUjoMciw5K6D",
        "colab_type": "code",
        "outputId": "3ab041bb-0cd9-496a-f8fa-2f328802eef1",
        "colab": {
          "base_uri": "https://localhost:8080/",
          "height": 595
        }
      },
      "source": [
        "# Match does the match for you\n",
        "greedymatch<-Match(Tr=treatment,M=1,X=mydata[xvars],replace=FALSE)\n",
        "matched<-mydata[unlist(greedymatch[c(\"index.treated\",\"index.control\")]), ]\n",
        "\n",
        "#get table 1 for matched data with standardized differences\n",
        "matchedtab1<-CreateTableOne(vars=xvars, strata =\"treatment\", \n",
        "                            data=matched, test = FALSE)\n",
        "print(matchedtab1, smd = TRUE)\n",
        "\n",
        "#outcome analysis\n",
        "y_trt<-matched$died[matched$treatment==1]\n",
        "y_con<-matched$died[matched$treatment==0]\n",
        "\n",
        "#pairwise difference\n",
        "diffy<-y_trt-y_con\n",
        "\n",
        "#paired t-test\n",
        "t.test(diffy)\n",
        "\n",
        "#McNemar test\n",
        "table(y_trt,y_con)\n",
        "\n",
        "mcnemar.test(matrix(c(973,513,395,303),2,2))"
      ],
      "execution_count": 10,
      "outputs": [
        {
          "output_type": "stream",
          "text": [
            "                     Stratified by treatment\n",
            "                      0             1             SMD   \n",
            "  n                    2184          2184               \n",
            "  ARF (mean (SD))      0.42 (0.49)   0.42 (0.49)   0.006\n",
            "  CHF (mean (SD))      0.10 (0.29)   0.10 (0.29)  <0.001\n",
            "  Cirr (mean (SD))     0.02 (0.15)   0.02 (0.15)  <0.001\n",
            "  colcan (mean (SD))   0.00 (0.02)   0.00 (0.02)  <0.001\n",
            "  Coma (mean (SD))     0.04 (0.20)   0.04 (0.20)  <0.001\n",
            "  lungcan (mean (SD))  0.00 (0.05)   0.00 (0.05)  <0.001\n",
            "  MOSF (mean (SD))     0.07 (0.26)   0.07 (0.26)  <0.001\n",
            "  sepsis (mean (SD))   0.24 (0.43)   0.32 (0.47)   0.177\n",
            "  age (mean (SD))     61.53 (16.15) 60.75 (15.63)  0.049\n",
            "  female (mean (SD))   0.44 (0.50)   0.41 (0.49)   0.042\n",
            "  meanbp1 (mean (SD)) 73.12 (34.28) 68.20 (34.24)  0.144\n"
          ],
          "name": "stdout"
        },
        {
          "output_type": "display_data",
          "data": {
            "text/plain": [
              "\n",
              "\tOne Sample t-test\n",
              "\n",
              "data:  diffy\n",
              "t = 3.9289, df = 2183, p-value = 8.799e-05\n",
              "alternative hypothesis: true mean is not equal to 0\n",
              "95 percent confidence interval:\n",
              " 0.02706131 0.08099730\n",
              "sample estimates:\n",
              "mean of x \n",
              "0.0540293 \n"
            ]
          },
          "metadata": {
            "tags": []
          }
        },
        {
          "output_type": "display_data",
          "data": {
            "text/plain": [
              "     y_con\n",
              "y_trt   0   1\n",
              "    0 303 395\n",
              "    1 513 973"
            ]
          },
          "metadata": {
            "tags": []
          }
        },
        {
          "output_type": "display_data",
          "data": {
            "text/plain": [
              "\n",
              "\tMcNemar's Chi-squared test with continuity correction\n",
              "\n",
              "data:  matrix(c(973, 513, 395, 303), 2, 2)\n",
              "McNemar's chi-squared = 15.076, df = 1, p-value = 0.0001033\n"
            ]
          },
          "metadata": {
            "tags": []
          }
        }
      ]
    },
    {
      "cell_type": "markdown",
      "metadata": {
        "id": "r6znmZBcypmL",
        "colab_type": "text"
      },
      "source": [
        "# propensity score estimation with logistic regression"
      ]
    },
    {
      "cell_type": "markdown",
      "metadata": {
        "id": "vTSw8YPgBMlE",
        "colab_type": "text"
      },
      "source": [
        "propensity is the probability of receiving the treatment rather than the control. Suppose old people are more likely to receive the treatment the probability will be higher of a 70 years old individual than a 30 years old one. In the creation of two groups if you match propensity score you should acheive balance.\n",
        "\n",
        "Coefficients estimate will communicate if one group is more or less likely to be tested. Here we can see that female is less likely to be tested with a significant p value\n"
      ]
    },
    {
      "cell_type": "code",
      "metadata": {
        "id": "IS3VN3qamf20",
        "colab_type": "code",
        "outputId": "d8b0be3b-d0f2-4df3-f520-f1aae154d1f7",
        "colab": {
          "base_uri": "https://localhost:8080/",
          "height": 595
        }
      },
      "source": [
        "#fit a propensity score model. logistic regression\n",
        "\n",
        "psmodel<-glm(treatment~ARF+CHF+Cirr+colcan+Coma+lungcan+MOSF+\n",
        "               sepsis+age+female+meanbp1,\n",
        "    family=binomial(),data=mydata)\n",
        "\n",
        "#show coefficients etc\n",
        "summary(psmodel)\n",
        "#create propensity score\n",
        "pscore<-psmodel$fitted.values"
      ],
      "execution_count": 11,
      "outputs": [
        {
          "output_type": "display_data",
          "data": {
            "text/plain": [
              "\n",
              "Call:\n",
              "glm(formula = treatment ~ ARF + CHF + Cirr + colcan + Coma + \n",
              "    lungcan + MOSF + sepsis + age + female + meanbp1, family = binomial(), \n",
              "    data = mydata)\n",
              "\n",
              "Deviance Residuals: \n",
              "    Min       1Q   Median       3Q      Max  \n",
              "-1.7013  -1.0097  -0.6336   1.1814   2.4791  \n",
              "\n",
              "Coefficients:\n",
              "              Estimate Std. Error z value Pr(>|z|)    \n",
              "(Intercept) -0.7299671  0.1997692  -3.654 0.000258 ***\n",
              "ARF          1.2931956  0.1487784   8.692  < 2e-16 ***\n",
              "CHF          1.6804704  0.1715672   9.795  < 2e-16 ***\n",
              "Cirr         0.5234506  0.2181458   2.400 0.016416 *  \n",
              "colcan       0.0295468  1.0985361   0.027 0.978542    \n",
              "Coma         0.7013451  0.1854937   3.781 0.000156 ***\n",
              "lungcan     -0.0869570  0.5039331  -0.173 0.863000    \n",
              "MOSF         1.3046587  0.1772705   7.360 1.84e-13 ***\n",
              "sepsis       2.0433604  0.1545437  13.222  < 2e-16 ***\n",
              "age         -0.0031374  0.0017289  -1.815 0.069567 .  \n",
              "female      -0.1697903  0.0583574  -2.909 0.003620 ** \n",
              "meanbp1     -0.0109824  0.0008217 -13.366  < 2e-16 ***\n",
              "---\n",
              "Signif. codes:  0 ‘***’ 0.001 ‘**’ 0.01 ‘*’ 0.05 ‘.’ 0.1 ‘ ’ 1\n",
              "\n",
              "(Dispersion parameter for binomial family taken to be 1)\n",
              "\n",
              "    Null deviance: 7621.4  on 5734  degrees of freedom\n",
              "Residual deviance: 6983.6  on 5723  degrees of freedom\n",
              "AIC: 7007.6\n",
              "\n",
              "Number of Fisher Scoring iterations: 4\n"
            ]
          },
          "metadata": {
            "tags": []
          }
        }
      ]
    },
    {
      "cell_type": "code",
      "metadata": {
        "id": "bTfvpKsXwBph",
        "colab_type": "code",
        "colab": {
          "base_uri": "https://localhost:8080/",
          "height": 51
        },
        "outputId": "0c2d7e4a-71ab-4a45-f9f2-08c375672d84"
      },
      "source": [
        "summary(pscore)"
      ],
      "execution_count": 23,
      "outputs": [
        {
          "output_type": "display_data",
          "data": {
            "text/plain": [
              "   Min. 1st Qu.  Median    Mean 3rd Qu.    Max. \n",
              "0.00908 0.04854 0.12068 0.30130 0.63872 0.85315 "
            ]
          },
          "metadata": {
            "tags": []
          }
        }
      ]
    },
    {
      "cell_type": "code",
      "metadata": {
        "id": "Y3y_FQG0xE2c",
        "colab_type": "code",
        "colab": {
          "base_uri": "https://localhost:8080/",
          "height": 437
        },
        "outputId": "deb3eefb-c03b-4460-ebcd-cf1b66b43706"
      },
      "source": [
        "wt<-ifelse(treatment==1,1/pscore,1/(1-pscore))\n",
        "hist(wt)"
      ],
      "execution_count": 28,
      "outputs": [
        {
          "output_type": "display_data",
          "data": {
            "image/png": "[encoded data removed]",
            "text/plain": [
              "Plot with title “Histogram of wt”"
            ]
          },
          "metadata": {
            "tags": [],
            "image/png": {
              "width": 420,
              "height": 420
            },
            "text/plain": {
              "width": 420,
              "height": 420
            }
          }
        }
      ]
    },
    {
      "cell_type": "markdown",
      "metadata": {
        "id": "CPrheN3ZCF7e",
        "colab_type": "text"
      },
      "source": [
        "# Matching with a Capiler"
      ]
    },
    {
      "cell_type": "markdown",
      "metadata": {
        "id": "QfbB-Smbagwh",
        "colab_type": "text"
      },
      "source": [
        "Matched will use the pscore to create comparable groups.\n",
        "\n",
        "Caliper ensures we do not have any bad matches. Smaller Caliper , less biais more variance"
      ]
    },
    {
      "cell_type": "code",
      "metadata": {
        "id": "M1L-83r3EIQZ",
        "colab_type": "code",
        "outputId": "67830fb2-ad9c-4f47-eeb2-12498fa30bde",
        "colab": {
          "base_uri": "https://localhost:8080/",
          "height": 442
        }
      },
      "source": [
        "#do greedy matching on logit(PS) using Match with a caliper\n",
        "logit <- function(p) {log(p)-log(1-p)}\n",
        "psmatch<-Match(Tr=mydata$treatment,M=1,X=logit(pscore),replace=FALSE,caliper=.2)\n",
        "matched<-mydata[unlist(psmatch[c(\"index.treated\",\"index.control\")]), ]\n",
        "xvars<-c(\"ARF\",\"CHF\",\"Cirr\",\"colcan\",\"Coma\",\"lungcan\",\"MOSF\",\"sepsis\",\n",
        "         \"age\",\"female\",\"meanbp1\")\n",
        "#get standardized differences\n",
        "matchedtab1<-CreateTableOne(vars=xvars, strata =\"treatment\", \n",
        "                            data=matched, test = FALSE)\n",
        "print(matchedtab1, smd = TRUE)\n",
        "\n",
        "#outcome analysis\n",
        "y_trt<-matched$died[matched$treatment==1]\n",
        "y_con<-matched$died[matched$treatment==0]\n",
        "\n",
        "#pairwise difference\n",
        "diffy<-y_trt-y_con\n",
        "\n",
        "#paired t-test\n",
        "t.test(diffy)"
      ],
      "execution_count": 13,
      "outputs": [
        {
          "output_type": "stream",
          "text": [
            "                     Stratified by treatment\n",
            "                      0             1             SMD   \n",
            "  n                    1932          1932               \n",
            "  ARF (mean (SD))      0.47 (0.50)   0.47 (0.50)   0.003\n",
            "  CHF (mean (SD))      0.10 (0.30)   0.09 (0.29)   0.023\n",
            "  Cirr (mean (SD))     0.03 (0.16)   0.03 (0.16)   0.007\n",
            "  colcan (mean (SD))   0.00 (0.02)   0.00 (0.02)  <0.001\n",
            "  Coma (mean (SD))     0.05 (0.21)   0.05 (0.22)   0.012\n",
            "  lungcan (mean (SD))  0.00 (0.05)   0.00 (0.05)   0.011\n",
            "  MOSF (mean (SD))     0.08 (0.27)   0.08 (0.27)   0.002\n",
            "  sepsis (mean (SD))   0.25 (0.43)   0.25 (0.43)   0.004\n",
            "  age (mean (SD))     61.36 (17.66) 60.91 (15.52)  0.027\n",
            "  female (mean (SD))   0.44 (0.50)   0.43 (0.49)   0.021\n",
            "  meanbp1 (mean (SD)) 71.76 (34.09) 70.99 (35.02)  0.022\n"
          ],
          "name": "stdout"
        },
        {
          "output_type": "display_data",
          "data": {
            "text/plain": [
              "\n",
              "\tOne Sample t-test\n",
              "\n",
              "data:  diffy\n",
              "t = 3.2837, df = 1931, p-value = 0.001043\n",
              "alternative hypothesis: true mean is not equal to 0\n",
              "95 percent confidence interval:\n",
              " 0.02022119 0.08019288\n",
              "sample estimates:\n",
              " mean of x \n",
              "0.05020704 \n"
            ]
          },
          "metadata": {
            "tags": []
          }
        }
      ]
    },
    {
      "cell_type": "markdown",
      "metadata": {
        "id": "ZnudGng0B2pU",
        "colab_type": "text"
      },
      "source": [
        "# Matching with MatchIt"
      ]
    },
    {
      "cell_type": "markdown",
      "metadata": {
        "id": "MvQVoTJoA7qx",
        "colab_type": "text"
      },
      "source": [
        "The jitter of matchit will plot 4 charts. There are no unmatched treated. So everybody in the treated group was matched with someone from the untreated group. There was a significant amount in the control group which had no match with the treated group. The low propensity score for control group was over represented"
      ]
    },
    {
      "cell_type": "code",
      "metadata": {
        "id": "dyIJHzeU-ycv",
        "colab_type": "code",
        "outputId": "191807e1-d409-4547-fc58-101762fb8c41",
        "colab": {
          "base_uri": "https://localhost:8080/",
          "height": 1000
        }
      },
      "source": [
        "#use MatchIt nearest neighbour for Propensity score\n",
        "\n",
        "m.out <-matchit(treatment~ARF+CHF+Cirr+colcan+Coma+lungcan+MOSF+\n",
        "               sepsis+age+female+meanbp1,data=mydata,method='nearest')\n",
        "summary(m.out)\n",
        "plot(m.out,type='jitter')\n",
        "plot(m.out,type='hist')"
      ],
      "execution_count": 14,
      "outputs": [
        {
          "output_type": "display_data",
          "data": {
            "text/plain": [
              "\n",
              "Call:\n",
              "matchit(formula = treatment ~ ARF + CHF + Cirr + colcan + Coma + \n",
              "    lungcan + MOSF + sepsis + age + female + meanbp1, data = mydata, \n",
              "    method = \"nearest\")\n",
              "\n",
              "Summary of balance for all data:\n",
              "         Means Treated Means Control SD Control Mean Diff eQQ Med eQQ Mean\n",
              "distance        0.4456        0.3410     0.1526    0.1046  0.1133   0.1047\n",
              "ARF             0.4162        0.4452     0.4971   -0.0290  0.0000   0.0288\n",
              "CHF             0.0957        0.0696     0.2544    0.0261  0.0000   0.0261\n",
              "Cirr            0.0224        0.0493     0.2165   -0.0268  0.0000   0.0266\n",
              "colcan          0.0005        0.0017     0.0411   -0.0012  0.0000   0.0014\n",
              "Coma            0.0435        0.0960     0.2947   -0.0525  0.0000   0.0527\n",
              "lungcan         0.0023        0.0096     0.0974   -0.0073  0.0000   0.0073\n",
              "MOSF            0.0723        0.0679     0.2516    0.0045  0.0000   0.0046\n",
              "sepsis          0.3205        0.1484     0.3556    0.1721  0.0000   0.1722\n",
              "age            60.7498       61.7609    17.2877   -1.0111  1.5820   1.6840\n",
              "female          0.4148        0.4610     0.4985   -0.0462  0.0000   0.0462\n",
              "meanbp1        68.1978       84.8686    38.8741  -16.6708 11.0000  16.6728\n",
              "         eQQ Max\n",
              "distance  0.1499\n",
              "ARF       1.0000\n",
              "CHF       1.0000\n",
              "Cirr      1.0000\n",
              "colcan    1.0000\n",
              "Coma      1.0000\n",
              "lungcan   1.0000\n",
              "MOSF      1.0000\n",
              "sepsis    1.0000\n",
              "age       4.7970\n",
              "female    1.0000\n",
              "meanbp1  49.0000\n",
              "\n",
              "\n",
              "Summary of balance for matched data:\n",
              "         Means Treated Means Control SD Control Mean Diff eQQ Med eQQ Mean\n",
              "distance        0.4456        0.4218     0.1256    0.0238  0.0144   0.0238\n",
              "ARF             0.4162        0.4986     0.5001   -0.0824  0.0000   0.0824\n",
              "CHF             0.0957        0.0907     0.2872    0.0050  0.0000   0.0050\n",
              "Cirr            0.0224        0.0256     0.1581   -0.0032  0.0000   0.0032\n",
              "colcan          0.0005        0.0014     0.0370   -0.0009  0.0000   0.0009\n",
              "Coma            0.0435        0.0398     0.1956    0.0037  0.0000   0.0037\n",
              "lungcan         0.0023        0.0018     0.0428    0.0005  0.0000   0.0005\n",
              "MOSF            0.0723        0.0861     0.2805   -0.0137  0.0000   0.0137\n",
              "sepsis          0.3205        0.2317     0.4220    0.0888  0.0000   0.0888\n",
              "age            60.7498       60.9006    17.9018   -0.1507  1.8360   2.1436\n",
              "female          0.4148        0.4368     0.4961   -0.0220  0.0000   0.0220\n",
              "meanbp1        68.1978       70.6380    32.8799   -2.4402  2.0000   3.2589\n",
              "         eQQ Max\n",
              "distance  0.0923\n",
              "ARF       1.0000\n",
              "CHF       1.0000\n",
              "Cirr      1.0000\n",
              "colcan    1.0000\n",
              "Coma      1.0000\n",
              "lungcan   1.0000\n",
              "MOSF      1.0000\n",
              "sepsis    1.0000\n",
              "age       4.9660\n",
              "female    1.0000\n",
              "meanbp1  56.0000\n",
              "\n",
              "Percent Balance Improvement:\n",
              "         Mean Diff.  eQQ Med  eQQ Mean  eQQ Max\n",
              "distance    77.2536  87.2579   77.2486  38.4396\n",
              "ARF       -184.0232   0.0000 -185.7143   0.0000\n",
              "CHF         80.7307   0.0000   80.7018   0.0000\n",
              "Cirr        88.0611   0.0000   87.9310   0.0000\n",
              "colcan      25.6569   0.0000   33.3333   0.0000\n",
              "Coma        93.0270   0.0000   93.0435   0.0000\n",
              "lungcan     93.7152   0.0000   93.7500   0.0000\n",
              "MOSF      -206.8791   0.0000 -200.0000   0.0000\n",
              "sepsis      48.3871   0.0000   48.4043   0.0000\n",
              "age         85.0924 -16.0552  -27.2917  -3.5230\n",
              "female      52.3891   0.0000   52.4752   0.0000\n",
              "meanbp1     85.3622  81.8182   80.4537 -14.2857\n",
              "\n",
              "Sample sizes:\n",
              "          Control Treated\n",
              "All          3551    2184\n",
              "Matched      2184    2184\n",
              "Unmatched    1367       0\n",
              "Discarded       0       0\n"
            ]
          },
          "metadata": {
            "tags": []
          }
        },
        {
          "output_type": "stream",
          "text": [
            "[1] \"To identify the units, use first mouse button; to stop, use second.\"\n"
          ],
          "name": "stdout"
        },
        {
          "output_type": "display_data",
          "data": {
            "text/plain": [
              "integer(0)"
            ],
            "text/latex": "",
            "text/markdown": "",
            "text/html": [
              ""
            ]
          },
          "metadata": {
            "tags": []
          }
        },
        {
          "output_type": "display_data",
          "data": {
            "image/png": "[encoded data removed]",
            "text/plain": [
              "Plot with title “Distribution of Propensity Scores”"
            ]
          },
          "metadata": {
            "tags": [],
            "image/png": {
              "width": 420,
              "height": 420
            },
            "text/plain": {
              "width": 420,
              "height": 420
            }
          }
        },
        {
          "output_type": "display_data",
          "data": {
            "image/png": "[encoded data removed]",
            "text/plain": [
              "Plot with title “Matched Control”"
            ]
          },
          "metadata": {
            "tags": [],
            "image/png": {
              "width": 420,
              "height": 420
            },
            "text/plain": {
              "width": 420,
              "height": 420
            }
          }
        }
      ]
    },
    {
      "cell_type": "markdown",
      "metadata": {
        "id": "_Mjk4Vdzwygf",
        "colab_type": "text"
      },
      "source": [
        "# Course Data analysis project\n",
        "\n",
        "For this assignment we will use data from Lalonde (1986), that aimed to evaluate the impact of National Supported Work (NSW) Demonstration, which is a labor training program, on post-intervention income levels. Interest is in estimating the causal effect of this training program on income.\n",
        "\n",
        "The data have n=614 subjects and 10 variables\n",
        "\n",
        "* age age in years.\n",
        "\n",
        "* educ years of schooling.\n",
        "\n",
        "* black indicator variable for blacks.\n",
        "\n",
        "* hispan indicator variable for Hispanics.\n",
        "\n",
        "* married indicator variable for marital status.\n",
        "\n",
        "* nodegree indicator variable for high school diploma.\n",
        "\n",
        "* re74 real earnings in 1974.\n",
        "\n",
        "* re75 real earnings in 1975.\n",
        "\n",
        "* re78 real earnings in 1978.\n",
        "\n",
        "* treat an indicator variable for treatment status.\n",
        "\n",
        "The outcome is re78 – post-intervention income.\n",
        "\n",
        "The treatment is treat – which is equal to 1 if the subject received the labor training and equal to 0 otherwise.\n",
        "\n",
        "** The potential confounding variables are: age, educ, black, hispan, married, nodegree, re74, re75.**"
      ]
    },
    {
      "cell_type": "code",
      "metadata": {
        "id": "2WcM6dEVyRuK",
        "colab_type": "code",
        "colab": {
          "base_uri": "https://localhost:8080/",
          "height": 204
        },
        "outputId": "57711073-6469-4d51-c97c-9cf91ea4831a"
      },
      "source": [
        "data(lalonde, package = 'MatchIt')\n",
        "head(lalonde)"
      ],
      "execution_count": 15,
      "outputs": [
        {
          "output_type": "display_data",
          "data": {
            "text/plain": [
              "     treat age educ black hispan married nodegree re74 re75 re78      \n",
              "NSW1 1     37  11   1     0      1       1        0    0     9930.0460\n",
              "NSW2 1     22   9   0     1      0       1        0    0     3595.8940\n",
              "NSW3 1     30  12   1     0      0       0        0    0    24909.4500\n",
              "NSW4 1     27  11   1     0      0       1        0    0     7506.1460\n",
              "NSW5 1     33   8   1     0      0       1        0    0      289.7899\n",
              "NSW6 1     22   9   1     0      0       1        0    0     4056.4940"
            ],
            "text/latex": "A data.frame: 6 × 10\n\\begin{tabular}{r|llllllllll}\n  & treat & age & educ & black & hispan & married & nodegree & re74 & re75 & re78\\\\\n  & <int> & <int> & <int> & <int> & <int> & <int> & <int> & <dbl> & <dbl> & <dbl>\\\\\n\\hline\n\tNSW1 & 1 & 37 & 11 & 1 & 0 & 1 & 1 & 0 & 0 &  9930.0460\\\\\n\tNSW2 & 1 & 22 &  9 & 0 & 1 & 0 & 1 & 0 & 0 &  3595.8940\\\\\n\tNSW3 & 1 & 30 & 12 & 1 & 0 & 0 & 0 & 0 & 0 & 24909.4500\\\\\n\tNSW4 & 1 & 27 & 11 & 1 & 0 & 0 & 1 & 0 & 0 &  7506.1460\\\\\n\tNSW5 & 1 & 33 &  8 & 1 & 0 & 0 & 1 & 0 & 0 &   289.7899\\\\\n\tNSW6 & 1 & 22 &  9 & 1 & 0 & 0 & 1 & 0 & 0 &  4056.4940\\\\\n\\end{tabular}\n",
            "text/markdown": "\nA data.frame: 6 × 10\n\n| <!--/--> | treat &lt;int&gt; | age &lt;int&gt; | educ &lt;int&gt; | black &lt;int&gt; | hispan &lt;int&gt; | married &lt;int&gt; | nodegree &lt;int&gt; | re74 &lt;dbl&gt; | re75 &lt;dbl&gt; | re78 &lt;dbl&gt; |\n|---|---|---|---|---|---|---|---|---|---|---|\n| NSW1 | 1 | 37 | 11 | 1 | 0 | 1 | 1 | 0 | 0 |  9930.0460 |\n| NSW2 | 1 | 22 |  9 | 0 | 1 | 0 | 1 | 0 | 0 |  3595.8940 |\n| NSW3 | 1 | 30 | 12 | 1 | 0 | 0 | 0 | 0 | 0 | 24909.4500 |\n| NSW4 | 1 | 27 | 11 | 1 | 0 | 0 | 1 | 0 | 0 |  7506.1460 |\n| NSW5 | 1 | 33 |  8 | 1 | 0 | 0 | 1 | 0 | 0 |   289.7899 |\n| NSW6 | 1 | 22 |  9 | 1 | 0 | 0 | 1 | 0 | 0 |  4056.4940 |\n\n",
            "text/html": [
              "<table>\n",
              "<caption>A data.frame: 6 × 10</caption>\n",
              "<thead>\n",
              "\t<tr><th></th><th scope=col>treat</th><th scope=col>age</th><th scope=col>educ</th><th scope=col>black</th><th scope=col>hispan</th><th scope=col>married</th><th scope=col>nodegree</th><th scope=col>re74</th><th scope=col>re75</th><th scope=col>re78</th></tr>\n",
              "\t<tr><th></th><th scope=col>&lt;int&gt;</th><th scope=col>&lt;int&gt;</th><th scope=col>&lt;int&gt;</th><th scope=col>&lt;int&gt;</th><th scope=col>&lt;int&gt;</th><th scope=col>&lt;int&gt;</th><th scope=col>&lt;int&gt;</th><th scope=col>&lt;dbl&gt;</th><th scope=col>&lt;dbl&gt;</th><th scope=col>&lt;dbl&gt;</th></tr>\n",
              "</thead>\n",
              "<tbody>\n",
              "\t<tr><th scope=row>NSW1</th><td>1</td><td>37</td><td>11</td><td>1</td><td>0</td><td>1</td><td>1</td><td>0</td><td>0</td><td> 9930.0460</td></tr>\n",
              "\t<tr><th scope=row>NSW2</th><td>1</td><td>22</td><td> 9</td><td>0</td><td>1</td><td>0</td><td>1</td><td>0</td><td>0</td><td> 3595.8940</td></tr>\n",
              "\t<tr><th scope=row>NSW3</th><td>1</td><td>30</td><td>12</td><td>1</td><td>0</td><td>0</td><td>0</td><td>0</td><td>0</td><td>24909.4500</td></tr>\n",
              "\t<tr><th scope=row>NSW4</th><td>1</td><td>27</td><td>11</td><td>1</td><td>0</td><td>0</td><td>1</td><td>0</td><td>0</td><td> 7506.1460</td></tr>\n",
              "\t<tr><th scope=row>NSW5</th><td>1</td><td>33</td><td> 8</td><td>1</td><td>0</td><td>0</td><td>1</td><td>0</td><td>0</td><td>  289.7899</td></tr>\n",
              "\t<tr><th scope=row>NSW6</th><td>1</td><td>22</td><td> 9</td><td>1</td><td>0</td><td>0</td><td>1</td><td>0</td><td>0</td><td> 4056.4940</td></tr>\n",
              "</tbody>\n",
              "</table>\n"
            ]
          },
          "metadata": {
            "tags": []
          }
        }
      ]
    },
    {
      "cell_type": "markdown",
      "metadata": {
        "id": "JPr0LJOj0Nh_",
        "colab_type": "text"
      },
      "source": [
        "## Question 1\n",
        "\n",
        "Find the standardized differences for all of the confounding variables (pre-matching). What is the standardized difference for married (to nearest hundredth)?"
      ]
    },
    {
      "cell_type": "code",
      "metadata": {
        "id": "N5xtUOqP2mBQ",
        "colab_type": "code",
        "colab": {}
      },
      "source": [
        "#covariates we will use (shorter list than you would use in practice)\n",
        "xvars<-c(\"treat\",\"age\",\"educ\",\"black\",\"hispan\",\"married\",\"nodegree\",\"re74\",\"re75\",\"re78\")"
      ],
      "execution_count": 0,
      "outputs": []
    },
    {
      "cell_type": "code",
      "metadata": {
        "id": "nmw6a7sN52bW",
        "colab_type": "code",
        "colab": {
          "base_uri": "https://localhost:8080/",
          "height": 238
        },
        "outputId": "c92879d1-13ee-4ecd-b140-22196aad1198"
      },
      "source": [
        "table1<- CreateTableOne(vars=xvars,strata=\"treat\", data=lalonde, test=FALSE)\n",
        "## include standardized mean difference (SMD)\n",
        "print(table1,smd=TRUE)"
      ],
      "execution_count": 17,
      "outputs": [
        {
          "output_type": "stream",
          "text": [
            "                      Stratified by treat\n",
            "                       0                 1                 SMD   \n",
            "  n                        429               185                 \n",
            "  treat (mean (SD))       0.00 (0.00)       1.00 (0.00)     Inf  \n",
            "  age (mean (SD))        28.03 (10.79)     25.82 (7.16)     0.242\n",
            "  educ (mean (SD))       10.24 (2.86)      10.35 (2.01)     0.045\n",
            "  black (mean (SD))       0.20 (0.40)       0.84 (0.36)     1.668\n",
            "  hispan (mean (SD))      0.14 (0.35)       0.06 (0.24)     0.277\n",
            "  married (mean (SD))     0.51 (0.50)       0.19 (0.39)     0.719\n",
            "  nodegree (mean (SD))    0.60 (0.49)       0.71 (0.46)     0.235\n",
            "  re74 (mean (SD))     5619.24 (6788.75) 2095.57 (4886.62)  0.596\n",
            "  re75 (mean (SD))     2466.48 (3292.00) 1532.06 (3219.25)  0.287\n",
            "  re78 (mean (SD))     6984.17 (7294.16) 6349.14 (7867.40)  0.084\n"
          ],
          "name": "stdout"
        }
      ]
    },
    {
      "cell_type": "markdown",
      "metadata": {
        "id": "WFMlFpzE6UVE",
        "colab_type": "text"
      },
      "source": [
        "## Question 2\n",
        "\n",
        "What is the raw (unadjusted) mean of real earnings in 1978 for treated subjects minus the mean of real earnings in 1978 for untreated subjects?"
      ]
    },
    {
      "cell_type": "code",
      "metadata": {
        "id": "mBmvG5Z56WvM",
        "colab_type": "code",
        "colab": {
          "base_uri": "https://localhost:8080/",
          "height": 34
        },
        "outputId": "7ee71eaa-6a34-425b-f5fa-a7922761e5cb"
      },
      "source": [
        "6349.14-6984.17"
      ],
      "execution_count": 18,
      "outputs": [
        {
          "output_type": "display_data",
          "data": {
            "text/plain": [
              "[1] -635.03"
            ],
            "text/latex": "-635.03",
            "text/markdown": "-635.03",
            "text/html": [
              "-635.03"
            ]
          },
          "metadata": {
            "tags": []
          }
        }
      ]
    },
    {
      "cell_type": "markdown",
      "metadata": {
        "id": "k7SxOWfK7C5S",
        "colab_type": "text"
      },
      "source": [
        "## Instructions\n",
        "Fit a propensity score model. Use a logistic regression model, where the outcome is treatment. Include the 8 confounding variables in the model as predictors, with no interaction terms or non-linear terms (such as squared terms). **Obtain the propensity score for each subject.** https://sejdemyr.github.io/r-tutorials/statistics/tutorial8.html"
      ]
    },
    {
      "cell_type": "code",
      "metadata": {
        "id": "egFcD4pc7vHJ",
        "colab_type": "code",
        "colab": {
          "base_uri": "https://localhost:8080/",
          "height": 527
        },
        "outputId": "6ad2e4d7-7433-4245-bae0-64e98e3913ae"
      },
      "source": [
        "#fit a propensity score model. logistic regression\n",
        "\n",
        "psmodel<-glm(treat~age+educ+black+hispan+married+nodegree+re74+re75,\n",
        "    family=binomial(),data=lalonde)\n",
        "\n",
        "#show coefficients etc\n",
        "summary(psmodel)\n",
        "#create propensity score\n",
        "pscore<-psmodel$fitted.values\n"
      ],
      "execution_count": 26,
      "outputs": [
        {
          "output_type": "display_data",
          "data": {
            "text/plain": [
              "\n",
              "Call:\n",
              "glm(formula = treat ~ age + educ + black + hispan + married + \n",
              "    nodegree + re74 + re75, family = binomial(), data = lalonde)\n",
              "\n",
              "Deviance Residuals: \n",
              "    Min       1Q   Median       3Q      Max  \n",
              "-1.7645  -0.4736  -0.2862   0.7508   2.7169  \n",
              "\n",
              "Coefficients:\n",
              "              Estimate Std. Error z value Pr(>|z|)    \n",
              "(Intercept) -4.729e+00  1.017e+00  -4.649 3.33e-06 ***\n",
              "age          1.578e-02  1.358e-02   1.162  0.24521    \n",
              "educ         1.613e-01  6.513e-02   2.477  0.01325 *  \n",
              "black        3.065e+00  2.865e-01  10.699  < 2e-16 ***\n",
              "hispan       9.836e-01  4.257e-01   2.311  0.02084 *  \n",
              "married     -8.321e-01  2.903e-01  -2.866  0.00415 ** \n",
              "nodegree     7.073e-01  3.377e-01   2.095  0.03620 *  \n",
              "re74        -7.178e-05  2.875e-05  -2.497  0.01253 *  \n",
              "re75         5.345e-05  4.635e-05   1.153  0.24884    \n",
              "---\n",
              "Signif. codes:  0 ‘***’ 0.001 ‘**’ 0.01 ‘*’ 0.05 ‘.’ 0.1 ‘ ’ 1\n",
              "\n",
              "(Dispersion parameter for binomial family taken to be 1)\n",
              "\n",
              "    Null deviance: 751.49  on 613  degrees of freedom\n",
              "Residual deviance: 487.84  on 605  degrees of freedom\n",
              "AIC: 505.84\n",
              "\n",
              "Number of Fisher Scoring iterations: 5\n"
            ]
          },
          "metadata": {
            "tags": []
          }
        }
      ]
    },
    {
      "cell_type": "markdown",
      "metadata": {
        "id": "6jQ4AgNk7Kpr",
        "colab_type": "text"
      },
      "source": [
        "## Question 3\n",
        "What are the minimum and maximum values of the estimated propensity score?"
      ]
    },
    {
      "cell_type": "code",
      "metadata": {
        "id": "vesPeJUSwX3b",
        "colab_type": "code",
        "colab": {
          "base_uri": "https://localhost:8080/",
          "height": 51
        },
        "outputId": "ca36d939-6b1c-453d-815d-b64e9b72daf5"
      },
      "source": [
        "summary(pscore)"
      ],
      "execution_count": 27,
      "outputs": [
        {
          "output_type": "display_data",
          "data": {
            "text/plain": [
              "   Min. 1st Qu.  Median    Mean 3rd Qu.    Max. \n",
              "0.00908 0.04854 0.12068 0.30130 0.63872 0.85315 "
            ]
          },
          "metadata": {
            "tags": []
          }
        }
      ]
    },
    {
      "cell_type": "markdown",
      "metadata": {
        "id": "wOoMP76hf3mY",
        "colab_type": "text"
      },
      "source": [
        "# Instructions\n",
        "\n",
        "Now carry out propensity score matching using the Match function.\n",
        "\n",
        "Before using the Match function, first do:\n",
        "\n",
        ">set.seed(931139)\n",
        "\n",
        "Setting the seed will ensure that you end up with a matched data set that is the same as the one used to create the solutions.\n",
        "\n",
        "Use options to specify pair matching, without replacement, no caliper.\n",
        "\n",
        "Match on the propensity score itself, not logit of the propensity score. Obtain the standardized differences for the matched data.\n",
        "\n"
      ]
    },
    {
      "cell_type": "code",
      "metadata": {
        "id": "tWllCmKky9iB",
        "colab_type": "code",
        "colab": {
          "base_uri": "https://localhost:8080/",
          "height": 221
        },
        "outputId": "181392c3-75be-4368-b24d-1d8718e1b178"
      },
      "source": [
        "set.seed(931139)\n",
        "xvars = c('age', 'educ', 'black', 'hispan', 'married', 'nodegree', 're74', 're75')\n",
        "ps_matched = Match(Tr=lalonde$treat, X=pscore, replace=FALSE, M=1)\n",
        "matched_data = lalonde[unlist(ps_matched[c(\"index.treated\", \"index.control\")]),] \n",
        "table1_ps_matched = CreateTableOne(vars=xvars, data=matched_data, strata = \"treat\")\n",
        "print(table1_ps_matched, smd=TRUE)\n",
        "dim(matched_data)"
      ],
      "execution_count": 42,
      "outputs": [
        {
          "output_type": "stream",
          "text": [
            "                      Stratified by treat\n",
            "                       0                 1                 p      test SMD   \n",
            "  n                        185               185                             \n",
            "  age (mean (SD))        25.29 (10.65)     25.82 (7.16)     0.575       0.058\n",
            "  educ (mean (SD))       10.55 (2.71)      10.35 (2.01)     0.421       0.084\n",
            "  black (mean (SD))       0.47 (0.50)       0.84 (0.36)    <0.001       0.852\n",
            "  hispan (mean (SD))      0.21 (0.41)       0.06 (0.24)    <0.001       0.453\n",
            "  married (mean (SD))     0.20 (0.40)       0.19 (0.39)     0.794       0.027\n",
            "  nodegree (mean (SD))    0.65 (0.48)       0.71 (0.46)     0.222       0.127\n",
            "  re74 (mean (SD))     2351.12 (4192.62) 2095.57 (4886.62)  0.590       0.056\n",
            "  re75 (mean (SD))     1605.02 (2601.68) 1532.06 (3219.25)  0.811       0.025\n"
          ],
          "name": "stdout"
        },
        {
          "output_type": "display_data",
          "data": {
            "text/plain": [
              "[1] 370  10"
            ],
            "text/latex": "\\begin{enumerate*}\n\\item 370\n\\item 10\n\\end{enumerate*}\n",
            "text/markdown": "1. 370\n2. 10\n\n\n",
            "text/html": [
              "<style>\n",
              ".list-inline {list-style: none; margin:0; padding: 0}\n",
              ".list-inline>li {display: inline-block}\n",
              ".list-inline>li:not(:last-child)::after {content: \"\\00b7\"; padding: 0 .5ex}\n",
              "</style>\n",
              "<ol class=list-inline><li>370</li><li>10</li></ol>\n"
            ]
          },
          "metadata": {
            "tags": []
          }
        }
      ]
    },
    {
      "cell_type": "code",
      "metadata": {
        "id": "hpeZte3k7Ec1",
        "colab_type": "code",
        "colab": {
          "base_uri": "https://localhost:8080/",
          "height": 1000
        },
        "outputId": "312ae55c-adf2-4160-adf8-033b6aa85500"
      },
      "source": [
        "set.seed(931139)\n",
        "#use MatchIt nearest neighbour for Propensity score\n",
        "\n",
        "m.out <-matchit(treat~age+educ+black+hispan+married+nodegree+re74+re75,data=lalonde,method='nearest')\n",
        "summary(m.out)\n",
        "plot(m.out,type='jitter')\n",
        "plot(m.out,type='hist')\n"
      ],
      "execution_count": 32,
      "outputs": [
        {
          "output_type": "display_data",
          "data": {
            "text/plain": [
              "\n",
              "Call:\n",
              "matchit(formula = treat ~ age + educ + black + hispan + married + \n",
              "    nodegree + re74 + re75, data = lalonde, method = \"nearest\")\n",
              "\n",
              "Summary of balance for all data:\n",
              "         Means Treated Means Control SD Control  Mean Diff   eQQ Med  eQQ Mean\n",
              "distance        0.5774        0.1822     0.2295     0.3952    0.5176    0.3955\n",
              "age            25.8162       28.0303    10.7867    -2.2141    1.0000    3.2649\n",
              "educ           10.3459       10.2354     2.8552     0.1105    1.0000    0.7027\n",
              "black           0.8432        0.2028     0.4026     0.6404    1.0000    0.6432\n",
              "hispan          0.0595        0.1422     0.3497    -0.0827    0.0000    0.0811\n",
              "married         0.1892        0.5128     0.5004    -0.3236    0.0000    0.3243\n",
              "nodegree        0.7081        0.5967     0.4911     0.1114    0.0000    0.1135\n",
              "re74         2095.5737     5619.2365  6788.7508 -3523.6628 2425.5720 3620.9240\n",
              "re75         1532.0553     2466.4844  3291.9962  -934.4291  981.0968 1060.6582\n",
              "           eQQ Max\n",
              "distance    0.5966\n",
              "age        10.0000\n",
              "educ        4.0000\n",
              "black       1.0000\n",
              "hispan      1.0000\n",
              "married     1.0000\n",
              "nodegree    1.0000\n",
              "re74     9216.5000\n",
              "re75     6795.0100\n",
              "\n",
              "\n",
              "Summary of balance for matched data:\n",
              "         Means Treated Means Control SD Control Mean Diff  eQQ Med eQQ Mean\n",
              "distance        0.5774        0.3629     0.2533    0.2145   0.1646   0.2146\n",
              "age            25.8162       25.3027    10.5864    0.5135   3.0000   3.3892\n",
              "educ           10.3459       10.6054     2.6582   -0.2595   0.0000   0.4541\n",
              "black           0.8432        0.4703     0.5005    0.3730   0.0000   0.3730\n",
              "hispan          0.0595        0.2162     0.4128   -0.1568   0.0000   0.1568\n",
              "married         0.1892        0.2108     0.4090   -0.0216   0.0000   0.0216\n",
              "nodegree        0.7081        0.6378     0.4819    0.0703   0.0000   0.0703\n",
              "re74         2095.5737     2342.1076  4238.9757 -246.5339 131.2709 545.1182\n",
              "re75         1532.0553     1614.7451  2632.3533  -82.6898 152.1774 349.5371\n",
              "            eQQ Max\n",
              "distance     0.4492\n",
              "age          9.0000\n",
              "educ         3.0000\n",
              "black        1.0000\n",
              "hispan       1.0000\n",
              "married      1.0000\n",
              "nodegree     1.0000\n",
              "re74     13121.7500\n",
              "re75     11365.7100\n",
              "\n",
              "Percent Balance Improvement:\n",
              "         Mean Diff.   eQQ Med eQQ Mean  eQQ Max\n",
              "distance    45.7140   68.1921  45.7536  24.7011\n",
              "age         76.8070 -200.0000  -3.8079  10.0000\n",
              "educ      -134.7737  100.0000  35.3846  25.0000\n",
              "black       41.7636  100.0000  42.0168   0.0000\n",
              "hispan     -89.4761    0.0000 -93.3333   0.0000\n",
              "married     93.3191    0.0000  93.3333   0.0000\n",
              "nodegree    36.9046    0.0000  38.0952   0.0000\n",
              "re74        93.0035   94.5880  84.9453 -42.3724\n",
              "re75        91.1508   84.4891  67.0453 -67.2655\n",
              "\n",
              "Sample sizes:\n",
              "          Control Treated\n",
              "All           429     185\n",
              "Matched       185     185\n",
              "Unmatched     244       0\n",
              "Discarded       0       0\n"
            ]
          },
          "metadata": {
            "tags": []
          }
        },
        {
          "output_type": "stream",
          "text": [
            "[1] \"To identify the units, use first mouse button; to stop, use second.\"\n"
          ],
          "name": "stdout"
        },
        {
          "output_type": "display_data",
          "data": {
            "text/plain": [
              "integer(0)"
            ],
            "text/latex": "",
            "text/markdown": "",
            "text/html": [
              ""
            ]
          },
          "metadata": {
            "tags": []
          }
        },
        {
          "output_type": "display_data",
          "data": {
            "image/png": "[encoded data removed]",
            "text/plain": [
              "Plot with title “Distribution of Propensity Scores”"
            ]
          },
          "metadata": {
            "tags": [],
            "image/png": {
              "width": 420,
              "height": 420
            },
            "text/plain": {
              "width": 420,
              "height": 420
            }
          }
        },
        {
          "output_type": "display_data",
          "data": {
            "image/png": "[encoded data removed]",
            "text/plain": [
              "Plot with title “Matched Control”"
            ]
          },
          "metadata": {
            "tags": [],
            "image/png": {
              "width": 420,
              "height": 420
            },
            "text/plain": {
              "width": 420,
              "height": 420
            }
          }
        }
      ]
    },
    {
      "cell_type": "markdown",
      "metadata": {
        "id": "-zOxaYdV0x00",
        "colab_type": "text"
      },
      "source": [
        "## Question 5\n",
        "\n",
        "For the propensity score matched data:\n",
        "\n",
        "Which variable has the largest standardized difference?"
      ]
    },
    {
      "cell_type": "code",
      "metadata": {
        "id": "dIYRWHT-0peB",
        "colab_type": "code",
        "colab": {
          "base_uri": "https://localhost:8080/",
          "height": 204
        },
        "outputId": "3ff5c9f8-7fec-4447-8078-cead07c11833"
      },
      "source": [
        "print(table1_ps_matched, smd=TRUE)"
      ],
      "execution_count": 45,
      "outputs": [
        {
          "output_type": "stream",
          "text": [
            "                      Stratified by treat\n",
            "                       0                 1                 p      test SMD   \n",
            "  n                        185               185                             \n",
            "  age (mean (SD))        25.29 (10.65)     25.82 (7.16)     0.575       0.058\n",
            "  educ (mean (SD))       10.55 (2.71)      10.35 (2.01)     0.421       0.084\n",
            "  black (mean (SD))       0.47 (0.50)       0.84 (0.36)    <0.001       0.852\n",
            "  hispan (mean (SD))      0.21 (0.41)       0.06 (0.24)    <0.001       0.453\n",
            "  married (mean (SD))     0.20 (0.40)       0.19 (0.39)     0.794       0.027\n",
            "  nodegree (mean (SD))    0.65 (0.48)       0.71 (0.46)     0.222       0.127\n",
            "  re74 (mean (SD))     2351.12 (4192.62) 2095.57 (4886.62)  0.590       0.056\n",
            "  re75 (mean (SD))     1605.02 (2601.68) 1532.06 (3219.25)  0.811       0.025\n"
          ],
          "name": "stdout"
        }
      ]
    },
    {
      "cell_type": "markdown",
      "metadata": {
        "id": "mgA24yTn4aJG",
        "colab_type": "text"
      },
      "source": [
        "## Instructions\n",
        "\n",
        "Re-do the matching, but use a caliper this time. Set the caliper=0.1 in the options in the Match function.\n",
        "\n",
        "Again, before running the Match function, set the seed:\n",
        "\n",
        ">set.seed(931139)\n",
        "\n"
      ]
    },
    {
      "cell_type": "markdown",
      "metadata": {
        "id": "CH0KaomZ4i80",
        "colab_type": "text"
      },
      "source": [
        "## Question 6\n",
        "How many matched pairs are there?"
      ]
    },
    {
      "cell_type": "code",
      "metadata": {
        "id": "zr0gWXCl0sli",
        "colab_type": "code",
        "colab": {
          "base_uri": "https://localhost:8080/",
          "height": 221
        },
        "outputId": "85e3fb66-1e7b-447d-b1d3-a82075639bfa"
      },
      "source": [
        "set.seed(931139)\n",
        "#do greedy matching on logit(PS) using Match with a caliper\n",
        "logit <- function(p) {log(p)-log(1-p)}\n",
        "psmatch<-Match(Tr=lalonde$treat,M=1,X=logit(pscore),replace=FALSE,caliper=.1)\n",
        "matched<-lalonde[unlist(psmatch[c(\"index.treated\",\"index.control\")]), ]\n",
        "xvars<-c(\"treat\",\"age\",\"educ\",\"black\",\"hispan\",\"married\",\"nodegree\",\"re74\",\"re75\")\n",
        "#get standardized differences\n",
        "matchedtab1<-CreateTableOne(vars=xvars, strata =\"treat\", \n",
        "                            data=matched, test = FALSE)\n",
        "print(matchedtab1, smd = TRUE)\n"
      ],
      "execution_count": 52,
      "outputs": [
        {
          "output_type": "stream",
          "text": [
            "                      Stratified by treat\n",
            "                       0                 1                 SMD   \n",
            "  n                        111               111                 \n",
            "  treat (mean (SD))       0.00 (0.00)       1.00 (0.00)     Inf  \n",
            "  age (mean (SD))        26.33 (11.05)     26.03 (6.92)     0.033\n",
            "  educ (mean (SD))       10.47 (2.65)      10.27 (2.30)     0.080\n",
            "  black (mean (SD))       0.72 (0.45)       0.74 (0.44)     0.040\n",
            "  hispan (mean (SD))      0.13 (0.33)       0.10 (0.30)     0.085\n",
            "  married (mean (SD))     0.25 (0.44)       0.23 (0.43)     0.042\n",
            "  nodegree (mean (SD))    0.61 (0.49)       0.65 (0.48)     0.074\n",
            "  re74 (mean (SD))     2601.08 (4595.00) 2238.16 (5722.69)  0.070\n",
            "  re75 (mean (SD))     1914.65 (2978.70) 1088.15 (2637.34)  0.294\n"
          ],
          "name": "stdout"
        }
      ]
    },
    {
      "cell_type": "markdown",
      "metadata": {
        "id": "dYEGzOZv6L4Y",
        "colab_type": "text"
      },
      "source": [
        "## Instructions\n",
        "Use the matched data set (from propensity score matching with caliper=0.1) to carry out the outcome analysis.\n",
        "\n"
      ]
    },
    {
      "cell_type": "markdown",
      "metadata": {
        "id": "0Ty8km8f6QBK",
        "colab_type": "text"
      },
      "source": [
        "## Question 7\n",
        "For the matched data, what is the mean of real earnings in 1978 for treated subjects minus the mean of real earnings in 1978 for untreated subjects?"
      ]
    },
    {
      "cell_type": "code",
      "metadata": {
        "id": "UE-d2XUz6UVc",
        "colab_type": "code",
        "colab": {
          "base_uri": "https://localhost:8080/",
          "height": 154
        },
        "outputId": "bd10eb01-6566-46e6-ad23-55de49e5f686"
      },
      "source": [
        "aggregate(re78 ~ treat, matched_data, mean)\n",
        "6151-4904"
      ],
      "execution_count": 54,
      "outputs": [
        {
          "output_type": "display_data",
          "data": {
            "text/plain": [
              "  treat re78    \n",
              "1 0     4904.375\n",
              "2 1     6151.181"
            ],
            "text/latex": "A data.frame: 2 × 2\n\\begin{tabular}{ll}\n treat & re78\\\\\n <int> & <dbl>\\\\\n\\hline\n\t 0 & 4904.375\\\\\n\t 1 & 6151.181\\\\\n\\end{tabular}\n",
            "text/markdown": "\nA data.frame: 2 × 2\n\n| treat &lt;int&gt; | re78 &lt;dbl&gt; |\n|---|---|\n| 0 | 4904.375 |\n| 1 | 6151.181 |\n\n",
            "text/html": [
              "<table>\n",
              "<caption>A data.frame: 2 × 2</caption>\n",
              "<thead>\n",
              "\t<tr><th scope=col>treat</th><th scope=col>re78</th></tr>\n",
              "\t<tr><th scope=col>&lt;int&gt;</th><th scope=col>&lt;dbl&gt;</th></tr>\n",
              "</thead>\n",
              "<tbody>\n",
              "\t<tr><td>0</td><td>4904.375</td></tr>\n",
              "\t<tr><td>1</td><td>6151.181</td></tr>\n",
              "</tbody>\n",
              "</table>\n"
            ]
          },
          "metadata": {
            "tags": []
          }
        },
        {
          "output_type": "display_data",
          "data": {
            "text/plain": [
              "[1] 1247"
            ],
            "text/latex": "1247",
            "text/markdown": "1247",
            "text/html": [
              "1247"
            ]
          },
          "metadata": {
            "tags": []
          }
        }
      ]
    },
    {
      "cell_type": "markdown",
      "metadata": {
        "id": "-WWln7Dm68Re",
        "colab_type": "text"
      },
      "source": [
        "## Question 8\n",
        "\n",
        "Use the matched data set (from propensity score matching with caliper=0.1) to carry out the outcome analysis.\n",
        "\n",
        "Carry out a paired t-test for the effect of treatment on earnings. What are the values of the 95% confidence interval?\n",
        "\n"
      ]
    },
    {
      "cell_type": "code",
      "metadata": {
        "id": "ar-MFpDs7CJe",
        "colab_type": "code",
        "colab": {
          "base_uri": "https://localhost:8080/",
          "height": 204
        },
        "outputId": "04a60db1-b99f-4a54-d100-dee6629af7c3"
      },
      "source": [
        "t.test(matched_data$re78[matched_data$treat==1], matched_data$re78[matched_data$treat==0])"
      ],
      "execution_count": 55,
      "outputs": [
        {
          "output_type": "display_data",
          "data": {
            "text/plain": [
              "\n",
              "\tWelch Two Sample t-test\n",
              "\n",
              "data:  matched_data$re78[matched_data$treat == 1] and matched_data$re78[matched_data$treat == 0]\n",
              "t = 1.4774, df = 215.81, p-value = 0.141\n",
              "alternative hypothesis: true difference in means is not equal to 0\n",
              "95 percent confidence interval:\n",
              " -416.5722 2910.1846\n",
              "sample estimates:\n",
              "mean of x mean of y \n",
              " 6151.181  4904.375 \n"
            ]
          },
          "metadata": {
            "tags": []
          }
        }
      ]
    }
  ]
}