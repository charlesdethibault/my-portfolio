{
  "nbformat": 4,
  "nbformat_minor": 0,
  "metadata": {
    "colab": {
      "name": "R_random_forest.ipynb",
      "provenance": [],
      "collapsed_sections": []
    },
    "kernelspec": {
      "name": "ir",
      "display_name": "R"
    }
  },
  "cells": [
    {
      "cell_type": "markdown",
      "metadata": {
        "id": "W0lCCEGrytFd",
        "colab_type": "text"
      },
      "source": [
        "Colab Link: hhttps://colab.research.google.com/drive/1TfCOpokUFywtWltW615sqZkbbZ_aIDW6\n",
        "\n",
        "\n"
      ]
    },
    {
      "cell_type": "markdown",
      "metadata": {
        "id": "TPLNmzb7qmVN",
        "colab_type": "text"
      },
      "source": [
        "**Summary**\n",
        "\n",
        "In this research we attempt to compare the difference of performance between a decision tree and a random forest model.\n",
        "\n",
        "For this research we use the HAR dataset for benchmarking.\n",
        "\n",
        "We use data from accelerometers on the belt, forearm, arm, and dumbell of 6 participants and define if the exercise has been properly done. The testing data rate the execution as below:\n",
        "\n",
        "* exactly according to the specification (A)\n",
        "\n",
        "* throwing elbows to the front (B)\n",
        "\n",
        "* lifting the dumbbell only halfway (C)\n",
        "\n",
        "* lowering the dumbbell only halfway (D)\n",
        "\n",
        "* throwing the hips to the front (E)\n",
        "\n",
        "We split the train data into 75%/25% to train our models on the first 75% and test our models on the last 25%.\n",
        "\n",
        "The random forest performed much better as the accuracy was almost twice higher and the Kappa almost 3 times higher than the decision tree model."
      ]
    },
    {
      "cell_type": "markdown",
      "metadata": {
        "id": "vpYnZoscyN6l",
        "colab_type": "text"
      },
      "source": [
        "**Set Environment**\n"
      ]
    },
    {
      "cell_type": "code",
      "metadata": {
        "id": "rCEtur7fajGn",
        "colab_type": "code",
        "outputId": "b5d1185c-ff4d-4783-af3a-251a674cfc36",
        "colab": {
          "base_uri": "https://localhost:8080/",
          "height": 102
        }
      },
      "source": [
        "#set R environment\n",
        "cat(system('python3 -c \"from google.colab import drive\\ndrive.mount()\"', intern=TRUE), sep='\\n', wait=TRUE)"
      ],
      "execution_count": 1,
      "outputs": [
        {
          "output_type": "stream",
          "text": [
            "Warning message in system(\"python3 -c \\\"from google.colab import drive\\ndrive.mount()\\\"\", :\n",
            "“running command 'python3 -c \"from google.colab import drive\n",
            "drive.mount()\"' had status 1”\n"
          ],
          "name": "stderr"
        },
        {
          "output_type": "stream",
          "text": [
            "\n",
            "TRUE\n"
          ],
          "name": "stdout"
        }
      ]
    },
    {
      "cell_type": "code",
      "metadata": {
        "id": "3i0-FV1wrTWZ",
        "colab_type": "code",
        "outputId": "a1ec1743-145e-47b2-c430-7e5825402a90",
        "colab": {
          "base_uri": "https://localhost:8080/",
          "height": 445
        }
      },
      "source": [
        "\n",
        "install.packages('caret')\n",
        "install.packages('randomForest')\n",
        "install.packages('rpart')\n",
        "install.packages('rpart.plot')\n",
        "install.packages('rattle')\n",
        "install.packages('e1071')\n",
        "set.seed(2017)"
      ],
      "execution_count": 2,
      "outputs": [
        {
          "output_type": "stream",
          "text": [
            "Installing package into ‘/usr/local/lib/R/site-library’\n",
            "(as ‘lib’ is unspecified)\n",
            "\n",
            "also installing the dependencies ‘numDeriv’, ‘SQUAREM’, ‘lava’, ‘prodlim’, ‘iterators’, ‘data.table’, ‘gower’, ‘ipred’, ‘timeDate’, ‘foreach’, ‘ModelMetrics’, ‘recipes’, ‘pROC’\n",
            "\n",
            "\n",
            "Installing package into ‘/usr/local/lib/R/site-library’\n",
            "(as ‘lib’ is unspecified)\n",
            "\n",
            "Installing package into ‘/usr/local/lib/R/site-library’\n",
            "(as ‘lib’ is unspecified)\n",
            "\n",
            "Installing package into ‘/usr/local/lib/R/site-library’\n",
            "(as ‘lib’ is unspecified)\n",
            "\n",
            "Installing package into ‘/usr/local/lib/R/site-library’\n",
            "(as ‘lib’ is unspecified)\n",
            "\n",
            "also installing the dependency ‘XML’\n",
            "\n",
            "\n",
            "Installing package into ‘/usr/local/lib/R/site-library’\n",
            "(as ‘lib’ is unspecified)\n",
            "\n"
          ],
          "name": "stderr"
        }
      ]
    },
    {
      "cell_type": "code",
      "metadata": {
        "id": "ezt1Ia4QlJX-",
        "colab_type": "code",
        "colab": {
          "base_uri": "https://localhost:8080/",
          "height": 527
        },
        "outputId": "4be2a18a-fb7d-4120-d563-65da8bd9ce72"
      },
      "source": [
        "library(caret)\n",
        "library(e1071)\n",
        "library(randomForest)\n",
        "library(rpart)\n",
        "library(rpart.plot)\n",
        "library(rattle)\n",
        "set.seed(2017)"
      ],
      "execution_count": 3,
      "outputs": [
        {
          "output_type": "stream",
          "text": [
            "Loading required package: lattice\n",
            "\n",
            "Loading required package: ggplot2\n",
            "\n",
            "randomForest 4.6-14\n",
            "\n",
            "Type rfNews() to see new features/changes/bug fixes.\n",
            "\n",
            "\n",
            "Attaching package: ‘randomForest’\n",
            "\n",
            "\n",
            "The following object is masked from ‘package:ggplot2’:\n",
            "\n",
            "    margin\n",
            "\n",
            "\n",
            "Rattle: A free graphical interface for data science with R.\n",
            "Version 5.3.0 Copyright (c) 2006-2018 Togaware Pty Ltd.\n",
            "Type 'rattle()' to shake, rattle, and roll your data.\n",
            "\n",
            "\n",
            "Attaching package: ‘rattle’\n",
            "\n",
            "\n",
            "The following object is masked from ‘package:randomForest’:\n",
            "\n",
            "    importance\n",
            "\n",
            "\n"
          ],
          "name": "stderr"
        }
      ]
    },
    {
      "cell_type": "markdown",
      "metadata": {
        "id": "naq4z--elSTt",
        "colab_type": "text"
      },
      "source": [
        "**Extract and transform**"
      ]
    },
    {
      "cell_type": "code",
      "metadata": {
        "id": "FAnJcNbXlJbB",
        "colab_type": "code",
        "colab": {}
      },
      "source": [
        "#train data load\n",
        "urltrain <- \"https://d396qusza40orc.cloudfront.net/predmachlearn/pml-training.csv\"\n",
        "filename <- \"pml-training.csv\"\n",
        "tmp <- tempfile()\n",
        "if(!file.exists(filename))download.file(urltrain, destfile = filename)\n",
        "data_train <- read.csv(filename, na.strings=c(\"\", \"NA\", \"#DIV/0!\"), row.names = 1)\n",
        "#test data load\n",
        "urltest <- \"https://d396qusza40orc.cloudfront.net/predmachlearn/pml-testing.csv\"\n",
        "filename <- \"pml-testing.csv\"\n",
        "tmp <- tempfile()\n",
        "if(!file.exists(filename))download.file(urltest, destfile = filename)\n",
        "data_test <- read.csv(filename, na.strings=c(\"\", \"NA\", \"#DIV/0!\"), row.names = 1)\n",
        "# remove NAs\n",
        "data_train_clean <- data_train[,!sapply(data_train,function(x) any(is.na(x)))]\n",
        "data_test_clean <- data_test[,!sapply(data_test,function(x) any(is.na(x)))]\n",
        "# remove personal info which are not predicators\n",
        "data_train_clean <-data_train_clean[,-c(1:6)]\n",
        "data_test_clean <-data_test_clean[,-c(1:6)]\n",
        "# partitionning\n",
        "inTrain <- createDataPartition(y=data_train_clean$classe, p=0.75, list=FALSE)\n",
        "Training <- data_train_clean[inTrain, ] \n",
        "Testing <- data_train_clean[-inTrain, ]"
      ],
      "execution_count": 0,
      "outputs": []
    },
    {
      "cell_type": "markdown",
      "metadata": {
        "id": "BdS3vbRYmqYT",
        "colab_type": "text"
      },
      "source": [
        "**Decision Tree example**\n"
      ]
    },
    {
      "cell_type": "markdown",
      "metadata": {
        "id": "KCEUW5B6m0Bb",
        "colab_type": "text"
      },
      "source": [
        "The decision tree does not provide great results as the accuracy is .4935 and the Kappa is .3376.\n"
      ]
    },
    {
      "cell_type": "code",
      "metadata": {
        "id": "pBaWGiuFlJeg",
        "colab_type": "code",
        "colab": {
          "base_uri": "https://localhost:8080/",
          "height": 255
        },
        "outputId": "e31bd1bc-9ffa-4c01-bfba-b79743ccb598"
      },
      "source": [
        "dt <- train(classe ~ .,method=\"rpart\",data=Training)\n",
        "print(dt$finalModel)"
      ],
      "execution_count": 5,
      "outputs": [
        {
          "output_type": "stream",
          "text": [
            "n= 14718 \n",
            "\n",
            "node), split, n, loss, yval, (yprob)\n",
            "      * denotes terminal node\n",
            "\n",
            " 1) root 14718 10533 A (0.28 0.19 0.17 0.16 0.18)  \n",
            "   2) roll_belt< 130.5 13489  9315 A (0.31 0.21 0.19 0.18 0.11)  \n",
            "     4) pitch_forearm< -33.95 1190     9 A (0.99 0.0076 0 0 0) *\n",
            "     5) pitch_forearm>=-33.95 12299  9306 A (0.24 0.23 0.21 0.2 0.12)  \n",
            "      10) magnet_dumbbell_y< 426.5 10226  7321 A (0.28 0.18 0.24 0.19 0.1)  \n",
            "        20) roll_forearm< 124.5 6414  3789 A (0.41 0.18 0.19 0.17 0.058) *\n",
            "        21) roll_forearm>=124.5 3812  2535 C (0.073 0.18 0.33 0.23 0.18) *\n",
            "      11) magnet_dumbbell_y>=426.5 2073  1063 B (0.042 0.49 0.045 0.22 0.2) *\n",
            "   3) roll_belt>=130.5 1229    11 E (0.009 0 0 0 0.99) *\n"
          ],
          "name": "stdout"
        }
      ]
    },
    {
      "cell_type": "code",
      "metadata": {
        "id": "J6oZyW1ClJiP",
        "colab_type": "code",
        "colab": {
          "base_uri": "https://localhost:8080/",
          "height": 437
        },
        "outputId": "a6811fc1-3458-48f7-910c-08a51747cc28"
      },
      "source": [
        "fancyRpartPlot(dt$finalModel)"
      ],
      "execution_count": 6,
      "outputs": [
        {
          "output_type": "display_data",
          "data": {
            "image/png": "[encoded data removed]",
            "text/plain": [
              "Plot with title “”"
            ]
          },
          "metadata": {
            "tags": [],
            "image/png": {
              "width": 420,
              "height": 420
            },
            "text/plain": {
              "width": 420,
              "height": 420
            }
          }
        }
      ]
    },
    {
      "cell_type": "code",
      "metadata": {
        "id": "GCHuDb3Mn2Yp",
        "colab_type": "code",
        "colab": {
          "base_uri": "https://localhost:8080/",
          "height": 561
        },
        "outputId": "a40843e4-e9d9-48a8-d95c-d0db54dafb5b"
      },
      "source": [
        "prediction_dt <- predict(dt,newdata=Testing)\n",
        "confusionMatrix(prediction_dt,Testing$classe)"
      ],
      "execution_count": 7,
      "outputs": [
        {
          "output_type": "display_data",
          "data": {
            "text/plain": [
              "Confusion Matrix and Statistics\n",
              "\n",
              "          Reference\n",
              "Prediction    A    B    C    D    E\n",
              "         A 1245  385  378  361  128\n",
              "         B   35  338   36  154  110\n",
              "         C  112  226  441  289  250\n",
              "         D    0    0    0    0    0\n",
              "         E    3    0    0    0  413\n",
              "\n",
              "Overall Statistics\n",
              "                                         \n",
              "               Accuracy : 0.4969         \n",
              "                 95% CI : (0.4829, 0.511)\n",
              "    No Information Rate : 0.2845         \n",
              "    P-Value [Acc > NIR] : < 2.2e-16      \n",
              "                                         \n",
              "                  Kappa : 0.3434         \n",
              "                                         \n",
              " Mcnemar's Test P-Value : NA             \n",
              "\n",
              "Statistics by Class:\n",
              "\n",
              "                     Class: A Class: B Class: C Class: D Class: E\n",
              "Sensitivity            0.8925  0.35616  0.51579   0.0000  0.45838\n",
              "Specificity            0.6432  0.91530  0.78340   1.0000  0.99925\n",
              "Pos Pred Value         0.4986  0.50223  0.33460      NaN  0.99279\n",
              "Neg Pred Value         0.9377  0.85559  0.88455   0.8361  0.89127\n",
              "Prevalence             0.2845  0.19352  0.17435   0.1639  0.18373\n",
              "Detection Rate         0.2539  0.06892  0.08993   0.0000  0.08422\n",
              "Detection Prevalence   0.5092  0.13723  0.26876   0.0000  0.08483\n",
              "Balanced Accuracy      0.7678  0.63573  0.64960   0.5000  0.72882"
            ]
          },
          "metadata": {
            "tags": []
          }
        }
      ]
    },
    {
      "cell_type": "markdown",
      "metadata": {
        "id": "GBmVPlsln8LR",
        "colab_type": "text"
      },
      "source": [
        "**The Random Forest**"
      ]
    },
    {
      "cell_type": "markdown",
      "metadata": {
        "id": "nbx2f-1yoLKw",
        "colab_type": "text"
      },
      "source": [
        "As we can see the random forest provides much better prediction as the accuracy is .9898 and the Kappa is .9871 while for the decision tree, we had an accuracy of .4935 and a Kappa of .3376\n"
      ]
    },
    {
      "cell_type": "code",
      "metadata": {
        "id": "aVYgWZJRoEO3",
        "colab_type": "code",
        "colab": {
          "base_uri": "https://localhost:8080/",
          "height": 272
        },
        "outputId": "afa572b5-1776-4a28-9169-f53233b8abac"
      },
      "source": [
        "rf <- train(classe ~ .,method=\"rf\",data=Training)\n",
        "#load(file = \"rf.rda\")\n",
        "print(rf$finalModel)"
      ],
      "execution_count": 8,
      "outputs": [
        {
          "output_type": "stream",
          "text": [
            "\n",
            "Call:\n",
            " randomForest(x = x, y = y, mtry = param$mtry) \n",
            "               Type of random forest: classification\n",
            "                     Number of trees: 500\n",
            "No. of variables tried at each split: 2\n",
            "\n",
            "        OOB estimate of  error rate: 0.69%\n",
            "Confusion matrix:\n",
            "     A    B    C    D    E  class.error\n",
            "A 4183    1    0    0    1 0.0004778973\n",
            "B   12 2829    7    0    0 0.0066713483\n",
            "C    0   21 2543    3    0 0.0093494351\n",
            "D    0    0   47 2363    2 0.0203150912\n",
            "E    0    0    0    8 2698 0.0029563932\n"
          ],
          "name": "stdout"
        }
      ]
    },
    {
      "cell_type": "code",
      "metadata": {
        "id": "dSXmdWiC_KkA",
        "colab_type": "code",
        "colab": {
          "base_uri": "https://localhost:8080/",
          "height": 437
        },
        "outputId": "a91e1bfa-c23f-4343-bec3-d0d848d4fd3f"
      },
      "source": [
        "varimp <- varImp(rf, varImp.train=FALSE)\n",
        "plot(varimp, top=20)"
      ],
      "execution_count": 9,
      "outputs": [
        {
          "output_type": "display_data",
          "data": {
            "image/png": "[encoded data removed]",
            "text/plain": [
              "plot without title"
            ]
          },
          "metadata": {
            "tags": [],
            "image/png": {
              "width": 420,
              "height": 420
            },
            "text/plain": {
              "width": 420,
              "height": 420
            }
          }
        }
      ]
    },
    {
      "cell_type": "code",
      "metadata": {
        "id": "3CmTtMJ5_dKK",
        "colab_type": "code",
        "colab": {
          "base_uri": "https://localhost:8080/",
          "height": 561
        },
        "outputId": "ac57d336-e1bb-4cd3-8844-81142877164b"
      },
      "source": [
        "prediction_rf <- predict(rf,newdata=Testing)\n",
        "confusionMatrix(prediction_rf,Testing$classe)"
      ],
      "execution_count": 10,
      "outputs": [
        {
          "output_type": "display_data",
          "data": {
            "text/plain": [
              "Confusion Matrix and Statistics\n",
              "\n",
              "          Reference\n",
              "Prediction    A    B    C    D    E\n",
              "         A 1395    9    0    0    0\n",
              "         B    0  936    3    0    0\n",
              "         C    0    4  851   10    0\n",
              "         D    0    0    1  794    1\n",
              "         E    0    0    0    0  900\n",
              "\n",
              "Overall Statistics\n",
              "                                          \n",
              "               Accuracy : 0.9943          \n",
              "                 95% CI : (0.9918, 0.9962)\n",
              "    No Information Rate : 0.2845          \n",
              "    P-Value [Acc > NIR] : < 2.2e-16       \n",
              "                                          \n",
              "                  Kappa : 0.9928          \n",
              "                                          \n",
              " Mcnemar's Test P-Value : NA              \n",
              "\n",
              "Statistics by Class:\n",
              "\n",
              "                     Class: A Class: B Class: C Class: D Class: E\n",
              "Sensitivity            1.0000   0.9863   0.9953   0.9876   0.9989\n",
              "Specificity            0.9974   0.9992   0.9965   0.9995   1.0000\n",
              "Pos Pred Value         0.9936   0.9968   0.9838   0.9975   1.0000\n",
              "Neg Pred Value         1.0000   0.9967   0.9990   0.9976   0.9998\n",
              "Prevalence             0.2845   0.1935   0.1743   0.1639   0.1837\n",
              "Detection Rate         0.2845   0.1909   0.1735   0.1619   0.1835\n",
              "Detection Prevalence   0.2863   0.1915   0.1764   0.1623   0.1835\n",
              "Balanced Accuracy      0.9987   0.9928   0.9959   0.9935   0.9994"
            ]
          },
          "metadata": {
            "tags": []
          }
        }
      ]
    }
  ]
}