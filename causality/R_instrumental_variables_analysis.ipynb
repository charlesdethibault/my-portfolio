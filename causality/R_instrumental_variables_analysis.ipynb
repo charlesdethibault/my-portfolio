{
  "nbformat": 4,
  "nbformat_minor": 0,
  "metadata": {
    "colab": {
      "name": "R_Instrumental_Variables_Analysis.ipynb",
      "provenance": [],
      "collapsed_sections": []
    },
    "kernelspec": {
      "name": "ir",
      "display_name": "R"
    }
  },
  "cells": [
    {
      "cell_type": "markdown",
      "metadata": {
        "id": "W0lCCEGrytFd",
        "colab_type": "text"
      },
      "source": [
        "This notebook includes the notes and the exercises of Week 5 of Crash course in Causality, Penn University\n",
        "\n",
        "Colab Link: https://colab.research.google.com/drive/1qM1k6KrgR8eGTptWs3RlPql5UJ41RWPz\n",
        "\n",
        "References:\n",
        "- Crash course in Causality, Penn University, Coursera\n",
        "- https://cran.r-project.org/web/packages/ivpack/ivpack.pdf\n",
        "- http://utstat.toronto.edu/~nathan/teaching/STA305/classnotes/week4/sta305week4classnotes.html"
      ]
    },
    {
      "cell_type": "markdown",
      "metadata": {
        "id": "vpYnZoscyN6l",
        "colab_type": "text"
      },
      "source": [
        "# Set Environment\n"
      ]
    },
    {
      "cell_type": "code",
      "metadata": {
        "id": "rCEtur7fajGn",
        "colab_type": "code",
        "outputId": "921195b7-90c5-4422-c912-82d17034be10",
        "colab": {
          "base_uri": "https://localhost:8080/",
          "height": 98
        }
      },
      "source": [
        "#set R environment\n",
        "cat(system('python3 -c \"from google.colab import drive\\ndrive.mount()\"', intern=TRUE), sep='\\n', wait=TRUE)"
      ],
      "execution_count": 1,
      "outputs": [
        {
          "output_type": "stream",
          "text": [
            "Warning message in system(\"python3 -c \\\"from google.colab import drive\\ndrive.mount()\\\"\", :\n",
            "“running command 'python3 -c \"from google.colab import drive\n",
            "drive.mount()\"' had status 1”\n"
          ],
          "name": "stderr"
        },
        {
          "output_type": "stream",
          "text": [
            "\n",
            "TRUE\n"
          ],
          "name": "stdout"
        }
      ]
    },
    {
      "cell_type": "code",
      "metadata": {
        "id": "3i0-FV1wrTWZ",
        "colab_type": "code",
        "outputId": "4d814c87-7d35-474f-b4a3-26365d066a1a",
        "colab": {
          "base_uri": "https://localhost:8080/",
          "height": 135
        }
      },
      "source": [
        "install.packages(\"ivpack\")"
      ],
      "execution_count": 2,
      "outputs": [
        {
          "output_type": "stream",
          "text": [
            "Installing package into ‘/usr/local/lib/R/site-library’\n",
            "(as ‘lib’ is unspecified)\n",
            "\n",
            "also installing the dependencies ‘zip’, ‘SparseM’, ‘MatrixModels’, ‘sp’, ‘data.table’, ‘openxlsx’, ‘minqa’, ‘nloptr’, ‘statmod’, ‘RcppEigen’, ‘carData’, ‘abind’, ‘pbkrtest’, ‘quantreg’, ‘maptools’, ‘rio’, ‘lme4’, ‘car’, ‘zoo’, ‘Formula’, ‘AER’, ‘sandwich’, ‘lmtest’\n",
            "\n",
            "\n"
          ],
          "name": "stderr"
        }
      ]
    },
    {
      "cell_type": "code",
      "metadata": {
        "id": "IOcwPvGI9Mnq",
        "colab_type": "code",
        "outputId": "a04e9b31-f5b2-4b29-e98b-4df1bd910599",
        "colab": {
          "base_uri": "https://localhost:8080/",
          "height": 391
        }
      },
      "source": [
        "#load packages\n",
        "library(ivpack)"
      ],
      "execution_count": 3,
      "outputs": [
        {
          "output_type": "stream",
          "text": [
            "Loading required package: AER\n",
            "\n",
            "Loading required package: car\n",
            "\n",
            "Loading required package: carData\n",
            "\n",
            "Loading required package: lmtest\n",
            "\n",
            "Loading required package: zoo\n",
            "\n",
            "\n",
            "Attaching package: ‘zoo’\n",
            "\n",
            "\n",
            "The following objects are masked from ‘package:base’:\n",
            "\n",
            "    as.Date, as.Date.numeric\n",
            "\n",
            "\n",
            "Loading required package: sandwich\n",
            "\n",
            "Loading required package: survival\n",
            "\n"
          ],
          "name": "stderr"
        }
      ]
    },
    {
      "cell_type": "markdown",
      "metadata": {
        "id": "LlrjslAc98aa",
        "colab_type": "text"
      },
      "source": [
        "# Load Data"
      ]
    },
    {
      "cell_type": "code",
      "metadata": {
        "id": "JL9dhJdv9UqE",
        "colab_type": "code",
        "colab": {}
      },
      "source": [
        "data(card.data)"
      ],
      "execution_count": 0,
      "outputs": []
    },
    {
      "cell_type": "code",
      "metadata": {
        "id": "o4fo1CnyG4oJ",
        "colab_type": "code",
        "outputId": "f87a5696-a366-4100-af0e-0ef2e5422699",
        "colab": {
          "base_uri": "https://localhost:8080/",
          "height": 713
        }
      },
      "source": [
        "#Instrumental Variables is nearc4 (near 4 year college)\n",
        "#outcome is lwage (log of wage)\n",
        "#'treatment' is educ (number of years of education)\n",
        "\n",
        "#summary stats\n",
        "colnames(card.data)\n",
        "head(card.data, 10)\n",
        "mean(card.data$nearc4)\n",
        "par(mfrow=c(1,2))\n",
        "hist(card.data$lwage)\n",
        "hist(card.data$educ)"
      ],
      "execution_count": 5,
      "outputs": [
        {
          "output_type": "display_data",
          "data": {
            "text/plain": [
              " [1] \"id\"       \"nearc2\"   \"nearc4\"   \"educ\"     \"age\"      \"fatheduc\"\n",
              " [7] \"motheduc\" \"weight\"   \"momdad14\" \"sinmom14\" \"step14\"   \"reg661\"  \n",
              "[13] \"reg662\"   \"reg663\"   \"reg664\"   \"reg665\"   \"reg666\"   \"reg667\"  \n",
              "[19] \"reg668\"   \"reg669\"   \"south66\"  \"black\"    \"smsa\"     \"south\"   \n",
              "[25] \"smsa66\"   \"wage\"     \"enroll\"   \"KWW\"      \"IQ\"       \"married\" \n",
              "[31] \"libcrd14\" \"exper\"    \"lwage\"    \"expersq\"  \"region\"  "
            ],
            "text/latex": "\\begin{enumerate*}\n\\item 'id'\n\\item 'nearc2'\n\\item 'nearc4'\n\\item 'educ'\n\\item 'age'\n\\item 'fatheduc'\n\\item 'motheduc'\n\\item 'weight'\n\\item 'momdad14'\n\\item 'sinmom14'\n\\item 'step14'\n\\item 'reg661'\n\\item 'reg662'\n\\item 'reg663'\n\\item 'reg664'\n\\item 'reg665'\n\\item 'reg666'\n\\item 'reg667'\n\\item 'reg668'\n\\item 'reg669'\n\\item 'south66'\n\\item 'black'\n\\item 'smsa'\n\\item 'south'\n\\item 'smsa66'\n\\item 'wage'\n\\item 'enroll'\n\\item 'KWW'\n\\item 'IQ'\n\\item 'married'\n\\item 'libcrd14'\n\\item 'exper'\n\\item 'lwage'\n\\item 'expersq'\n\\item 'region'\n\\end{enumerate*}\n",
            "text/markdown": "1. 'id'\n2. 'nearc2'\n3. 'nearc4'\n4. 'educ'\n5. 'age'\n6. 'fatheduc'\n7. 'motheduc'\n8. 'weight'\n9. 'momdad14'\n10. 'sinmom14'\n11. 'step14'\n12. 'reg661'\n13. 'reg662'\n14. 'reg663'\n15. 'reg664'\n16. 'reg665'\n17. 'reg666'\n18. 'reg667'\n19. 'reg668'\n20. 'reg669'\n21. 'south66'\n22. 'black'\n23. 'smsa'\n24. 'south'\n25. 'smsa66'\n26. 'wage'\n27. 'enroll'\n28. 'KWW'\n29. 'IQ'\n30. 'married'\n31. 'libcrd14'\n32. 'exper'\n33. 'lwage'\n34. 'expersq'\n35. 'region'\n\n\n",
            "text/html": [
              "<style>\n",
              ".list-inline {list-style: none; margin:0; padding: 0}\n",
              ".list-inline>li {display: inline-block}\n",
              ".list-inline>li:not(:last-child)::after {content: \"\\00b7\"; padding: 0 .5ex}\n",
              "</style>\n",
              "<ol class=list-inline><li>'id'</li><li>'nearc2'</li><li>'nearc4'</li><li>'educ'</li><li>'age'</li><li>'fatheduc'</li><li>'motheduc'</li><li>'weight'</li><li>'momdad14'</li><li>'sinmom14'</li><li>'step14'</li><li>'reg661'</li><li>'reg662'</li><li>'reg663'</li><li>'reg664'</li><li>'reg665'</li><li>'reg666'</li><li>'reg667'</li><li>'reg668'</li><li>'reg669'</li><li>'south66'</li><li>'black'</li><li>'smsa'</li><li>'south'</li><li>'smsa66'</li><li>'wage'</li><li>'enroll'</li><li>'KWW'</li><li>'IQ'</li><li>'married'</li><li>'libcrd14'</li><li>'exper'</li><li>'lwage'</li><li>'expersq'</li><li>'region'</li></ol>\n"
            ]
          },
          "metadata": {
            "tags": []
          }
        },
        {
          "output_type": "display_data",
          "data": {
            "text/plain": [
              "   id nearc2 nearc4 educ age fatheduc motheduc weight momdad14 sinmom14 ⋯ wage\n",
              "1   2 0      0       7   29  NA       NA       158413 1        0        ⋯ 548 \n",
              "2   3 0      0      12   27   8        8       380166 1        0        ⋯ 481 \n",
              "3   4 0      0      12   34  14       12       367470 1        0        ⋯ 721 \n",
              "4   5 1      1      11   27  11       12       380166 1        0        ⋯ 250 \n",
              "5   6 1      1      12   34   8        7       367470 1        0        ⋯ 729 \n",
              "6   7 1      1      12   26   9       12       380166 1        0        ⋯ 500 \n",
              "7   8 1      1      18   33  14       14       367470 1        0        ⋯ 565 \n",
              "8   9 1      1      14   29  14       14       496635 1        0        ⋯ 608 \n",
              "9  10 1      1      12   28  12       12       367772 1        0        ⋯ 425 \n",
              "10 11 1      1      12   29  12       12       480445 1        0        ⋯ 515 \n",
              "   enroll KWW IQ  married libcrd14 exper lwage    expersq region\n",
              "1  0      15   NA 1       0        16    6.306275 256     661   \n",
              "2  0      35   93 1       1         9    6.175867  81     661   \n",
              "3  0      42  103 1       1        16    6.580639 256     661   \n",
              "4  0      25   88 1       1        10    5.521461 100     662   \n",
              "5  0      34  108 1       0        16    6.591674 256     662   \n",
              "6  0      38   85 1       1         8    6.214608  64     662   \n",
              "7  0      41  119 1       1         9    6.336826  81     662   \n",
              "8  0      46  108 1       1         9    6.410175  81     662   \n",
              "9  0      32   96 4       0        10    6.052089 100     662   \n",
              "10 0      34   97 1       1        11    6.244167 121     662   "
            ],
            "text/latex": "A data.frame: 10 × 35\n\\begin{tabular}{r|lllllllllllllllllllll}\n  & id & nearc2 & nearc4 & educ & age & fatheduc & motheduc & weight & momdad14 & sinmom14 & ⋯ & wage & enroll & KWW & IQ & married & libcrd14 & exper & lwage & expersq & region\\\\\n  & <int> & <int> & <int> & <int> & <int> & <int> & <int> & <dbl> & <int> & <int> & ⋯ & <int> & <int> & <int> & <int> & <int> & <int> & <int> & <dbl> & <int> & <dbl>\\\\\n\\hline\n\t1 &  2 & 0 & 0 &  7 & 29 & NA & NA & 158413 & 1 & 0 & ⋯ & 548 & 0 & 15 &  NA & 1 & 0 & 16 & 6.306275 & 256 & 661\\\\\n\t2 &  3 & 0 & 0 & 12 & 27 &  8 &  8 & 380166 & 1 & 0 & ⋯ & 481 & 0 & 35 &  93 & 1 & 1 &  9 & 6.175867 &  81 & 661\\\\\n\t3 &  4 & 0 & 0 & 12 & 34 & 14 & 12 & 367470 & 1 & 0 & ⋯ & 721 & 0 & 42 & 103 & 1 & 1 & 16 & 6.580639 & 256 & 661\\\\\n\t4 &  5 & 1 & 1 & 11 & 27 & 11 & 12 & 380166 & 1 & 0 & ⋯ & 250 & 0 & 25 &  88 & 1 & 1 & 10 & 5.521461 & 100 & 662\\\\\n\t5 &  6 & 1 & 1 & 12 & 34 &  8 &  7 & 367470 & 1 & 0 & ⋯ & 729 & 0 & 34 & 108 & 1 & 0 & 16 & 6.591674 & 256 & 662\\\\\n\t6 &  7 & 1 & 1 & 12 & 26 &  9 & 12 & 380166 & 1 & 0 & ⋯ & 500 & 0 & 38 &  85 & 1 & 1 &  8 & 6.214608 &  64 & 662\\\\\n\t7 &  8 & 1 & 1 & 18 & 33 & 14 & 14 & 367470 & 1 & 0 & ⋯ & 565 & 0 & 41 & 119 & 1 & 1 &  9 & 6.336826 &  81 & 662\\\\\n\t8 &  9 & 1 & 1 & 14 & 29 & 14 & 14 & 496635 & 1 & 0 & ⋯ & 608 & 0 & 46 & 108 & 1 & 1 &  9 & 6.410175 &  81 & 662\\\\\n\t9 & 10 & 1 & 1 & 12 & 28 & 12 & 12 & 367772 & 1 & 0 & ⋯ & 425 & 0 & 32 &  96 & 4 & 0 & 10 & 6.052089 & 100 & 662\\\\\n\t10 & 11 & 1 & 1 & 12 & 29 & 12 & 12 & 480445 & 1 & 0 & ⋯ & 515 & 0 & 34 &  97 & 1 & 1 & 11 & 6.244167 & 121 & 662\\\\\n\\end{tabular}\n",
            "text/markdown": "\nA data.frame: 10 × 35\n\n| <!--/--> | id &lt;int&gt; | nearc2 &lt;int&gt; | nearc4 &lt;int&gt; | educ &lt;int&gt; | age &lt;int&gt; | fatheduc &lt;int&gt; | motheduc &lt;int&gt; | weight &lt;dbl&gt; | momdad14 &lt;int&gt; | sinmom14 &lt;int&gt; | ⋯ ⋯ | wage &lt;int&gt; | enroll &lt;int&gt; | KWW &lt;int&gt; | IQ &lt;int&gt; | married &lt;int&gt; | libcrd14 &lt;int&gt; | exper &lt;int&gt; | lwage &lt;dbl&gt; | expersq &lt;int&gt; | region &lt;dbl&gt; |\n|---|---|---|---|---|---|---|---|---|---|---|---|---|---|---|---|---|---|---|---|---|---|\n| 1 |  2 | 0 | 0 |  7 | 29 | NA | NA | 158413 | 1 | 0 | ⋯ | 548 | 0 | 15 |  NA | 1 | 0 | 16 | 6.306275 | 256 | 661 |\n| 2 |  3 | 0 | 0 | 12 | 27 |  8 |  8 | 380166 | 1 | 0 | ⋯ | 481 | 0 | 35 |  93 | 1 | 1 |  9 | 6.175867 |  81 | 661 |\n| 3 |  4 | 0 | 0 | 12 | 34 | 14 | 12 | 367470 | 1 | 0 | ⋯ | 721 | 0 | 42 | 103 | 1 | 1 | 16 | 6.580639 | 256 | 661 |\n| 4 |  5 | 1 | 1 | 11 | 27 | 11 | 12 | 380166 | 1 | 0 | ⋯ | 250 | 0 | 25 |  88 | 1 | 1 | 10 | 5.521461 | 100 | 662 |\n| 5 |  6 | 1 | 1 | 12 | 34 |  8 |  7 | 367470 | 1 | 0 | ⋯ | 729 | 0 | 34 | 108 | 1 | 0 | 16 | 6.591674 | 256 | 662 |\n| 6 |  7 | 1 | 1 | 12 | 26 |  9 | 12 | 380166 | 1 | 0 | ⋯ | 500 | 0 | 38 |  85 | 1 | 1 |  8 | 6.214608 |  64 | 662 |\n| 7 |  8 | 1 | 1 | 18 | 33 | 14 | 14 | 367470 | 1 | 0 | ⋯ | 565 | 0 | 41 | 119 | 1 | 1 |  9 | 6.336826 |  81 | 662 |\n| 8 |  9 | 1 | 1 | 14 | 29 | 14 | 14 | 496635 | 1 | 0 | ⋯ | 608 | 0 | 46 | 108 | 1 | 1 |  9 | 6.410175 |  81 | 662 |\n| 9 | 10 | 1 | 1 | 12 | 28 | 12 | 12 | 367772 | 1 | 0 | ⋯ | 425 | 0 | 32 |  96 | 4 | 0 | 10 | 6.052089 | 100 | 662 |\n| 10 | 11 | 1 | 1 | 12 | 29 | 12 | 12 | 480445 | 1 | 0 | ⋯ | 515 | 0 | 34 |  97 | 1 | 1 | 11 | 6.244167 | 121 | 662 |\n\n",
            "text/html": [
              "<table>\n",
              "<caption>A data.frame: 10 × 35</caption>\n",
              "<thead>\n",
              "\t<tr><th></th><th scope=col>id</th><th scope=col>nearc2</th><th scope=col>nearc4</th><th scope=col>educ</th><th scope=col>age</th><th scope=col>fatheduc</th><th scope=col>motheduc</th><th scope=col>weight</th><th scope=col>momdad14</th><th scope=col>sinmom14</th><th scope=col>⋯</th><th scope=col>wage</th><th scope=col>enroll</th><th scope=col>KWW</th><th scope=col>IQ</th><th scope=col>married</th><th scope=col>libcrd14</th><th scope=col>exper</th><th scope=col>lwage</th><th scope=col>expersq</th><th scope=col>region</th></tr>\n",
              "\t<tr><th></th><th scope=col>&lt;int&gt;</th><th scope=col>&lt;int&gt;</th><th scope=col>&lt;int&gt;</th><th scope=col>&lt;int&gt;</th><th scope=col>&lt;int&gt;</th><th scope=col>&lt;int&gt;</th><th scope=col>&lt;int&gt;</th><th scope=col>&lt;dbl&gt;</th><th scope=col>&lt;int&gt;</th><th scope=col>&lt;int&gt;</th><th scope=col>⋯</th><th scope=col>&lt;int&gt;</th><th scope=col>&lt;int&gt;</th><th scope=col>&lt;int&gt;</th><th scope=col>&lt;int&gt;</th><th scope=col>&lt;int&gt;</th><th scope=col>&lt;int&gt;</th><th scope=col>&lt;int&gt;</th><th scope=col>&lt;dbl&gt;</th><th scope=col>&lt;int&gt;</th><th scope=col>&lt;dbl&gt;</th></tr>\n",
              "</thead>\n",
              "<tbody>\n",
              "\t<tr><th scope=row>1</th><td> 2</td><td>0</td><td>0</td><td> 7</td><td>29</td><td>NA</td><td>NA</td><td>158413</td><td>1</td><td>0</td><td>⋯</td><td>548</td><td>0</td><td>15</td><td> NA</td><td>1</td><td>0</td><td>16</td><td>6.306275</td><td>256</td><td>661</td></tr>\n",
              "\t<tr><th scope=row>2</th><td> 3</td><td>0</td><td>0</td><td>12</td><td>27</td><td> 8</td><td> 8</td><td>380166</td><td>1</td><td>0</td><td>⋯</td><td>481</td><td>0</td><td>35</td><td> 93</td><td>1</td><td>1</td><td> 9</td><td>6.175867</td><td> 81</td><td>661</td></tr>\n",
              "\t<tr><th scope=row>3</th><td> 4</td><td>0</td><td>0</td><td>12</td><td>34</td><td>14</td><td>12</td><td>367470</td><td>1</td><td>0</td><td>⋯</td><td>721</td><td>0</td><td>42</td><td>103</td><td>1</td><td>1</td><td>16</td><td>6.580639</td><td>256</td><td>661</td></tr>\n",
              "\t<tr><th scope=row>4</th><td> 5</td><td>1</td><td>1</td><td>11</td><td>27</td><td>11</td><td>12</td><td>380166</td><td>1</td><td>0</td><td>⋯</td><td>250</td><td>0</td><td>25</td><td> 88</td><td>1</td><td>1</td><td>10</td><td>5.521461</td><td>100</td><td>662</td></tr>\n",
              "\t<tr><th scope=row>5</th><td> 6</td><td>1</td><td>1</td><td>12</td><td>34</td><td> 8</td><td> 7</td><td>367470</td><td>1</td><td>0</td><td>⋯</td><td>729</td><td>0</td><td>34</td><td>108</td><td>1</td><td>0</td><td>16</td><td>6.591674</td><td>256</td><td>662</td></tr>\n",
              "\t<tr><th scope=row>6</th><td> 7</td><td>1</td><td>1</td><td>12</td><td>26</td><td> 9</td><td>12</td><td>380166</td><td>1</td><td>0</td><td>⋯</td><td>500</td><td>0</td><td>38</td><td> 85</td><td>1</td><td>1</td><td> 8</td><td>6.214608</td><td> 64</td><td>662</td></tr>\n",
              "\t<tr><th scope=row>7</th><td> 8</td><td>1</td><td>1</td><td>18</td><td>33</td><td>14</td><td>14</td><td>367470</td><td>1</td><td>0</td><td>⋯</td><td>565</td><td>0</td><td>41</td><td>119</td><td>1</td><td>1</td><td> 9</td><td>6.336826</td><td> 81</td><td>662</td></tr>\n",
              "\t<tr><th scope=row>8</th><td> 9</td><td>1</td><td>1</td><td>14</td><td>29</td><td>14</td><td>14</td><td>496635</td><td>1</td><td>0</td><td>⋯</td><td>608</td><td>0</td><td>46</td><td>108</td><td>1</td><td>1</td><td> 9</td><td>6.410175</td><td> 81</td><td>662</td></tr>\n",
              "\t<tr><th scope=row>9</th><td>10</td><td>1</td><td>1</td><td>12</td><td>28</td><td>12</td><td>12</td><td>367772</td><td>1</td><td>0</td><td>⋯</td><td>425</td><td>0</td><td>32</td><td> 96</td><td>4</td><td>0</td><td>10</td><td>6.052089</td><td>100</td><td>662</td></tr>\n",
              "\t<tr><th scope=row>10</th><td>11</td><td>1</td><td>1</td><td>12</td><td>29</td><td>12</td><td>12</td><td>480445</td><td>1</td><td>0</td><td>⋯</td><td>515</td><td>0</td><td>34</td><td> 97</td><td>1</td><td>1</td><td>11</td><td>6.244167</td><td>121</td><td>662</td></tr>\n",
              "</tbody>\n",
              "</table>\n"
            ]
          },
          "metadata": {
            "tags": []
          }
        },
        {
          "output_type": "display_data",
          "data": {
            "text/plain": [
              "[1] 0.6820598"
            ],
            "text/latex": "0.682059800664452",
            "text/markdown": "0.682059800664452",
            "text/html": [
              "0.682059800664452"
            ]
          },
          "metadata": {
            "tags": []
          }
        },
        {
          "output_type": "display_data",
          "data": {
            "image/png": "[encoded data removed]",
            "text/plain": [
              "Plot with title “Histogram of card.data$educ”"
            ]
          },
          "metadata": {
            "tags": [],
            "image/png": {
              "width": 420,
              "height": 420
            },
            "text/plain": {
              "width": 420,
              "height": 420
            }
          }
        }
      ]
    },
    {
      "cell_type": "markdown",
      "metadata": {
        "id": "2ahtpyFnI3-X",
        "colab_type": "text"
      },
      "source": [
        "## Instrumental Variables\n",
        "\n",
        "IV is an alternative casual inference method that does not rely on ignorability assumption. \n",
        "\n",
        "We analyse the the variables that can influence the treatment, independent of the outcome.  An example is the higher probability to be treated because you live close to a care center, or simply one person is more open to comply to be assigned to treatment or control, or because one drug goes out of fashion and is replaced by another one\n",
        "\n",
        "![alt text](https://drive.google.com/uc?id=19M3RP9qAFdJ1riM07dDmp9Avfm9ylaDs)\n",
        "\n",
        "\n",
        "To recap, The ignorability assumption means that if we want to interpret the regression coefficient for treatment as an average causal effect then all the counfounding covariates should be controlled for in the regression model. In a randomized experiments the treatment assignment is ignorable. The treatment assignment should be independant of the potential outcome"
      ]
    },
    {
      "cell_type": "code",
      "metadata": {
        "id": "xqxO4Q0H9nVy",
        "colab_type": "code",
        "outputId": "2308eeb2-96c6-450f-df54-6012a9449888",
        "colab": {
          "base_uri": "https://localhost:8080/",
          "height": 50
        }
      },
      "source": [
        "#is the IV associated with the treatment? strenght of IV\n",
        "mean(card.data$educ[card.data$nearc4==1])\n",
        "mean(card.data$educ[card.data$nearc4==0])"
      ],
      "execution_count": 6,
      "outputs": [
        {
          "output_type": "display_data",
          "data": {
            "text/plain": [
              "[1] 13.52703"
            ],
            "text/latex": "13.5270336093522",
            "text/markdown": "13.5270336093522",
            "text/html": [
              "13.5270336093522"
            ]
          },
          "metadata": {
            "tags": []
          }
        },
        {
          "output_type": "display_data",
          "data": {
            "text/plain": [
              "[1] 12.69801"
            ],
            "text/latex": "12.6980146290491",
            "text/markdown": "12.6980146290491",
            "text/html": [
              "12.6980146290491"
            ]
          },
          "metadata": {
            "tags": []
          }
        }
      ]
    },
    {
      "cell_type": "code",
      "metadata": {
        "id": "2kUGaQu69qSV",
        "colab_type": "code",
        "outputId": "9eb43dee-70bb-4b9a-a85e-997dabfd94bd",
        "colab": {
          "base_uri": "https://localhost:8080/",
          "height": 33
        }
      },
      "source": [
        "#make education binary\n",
        "educ12<-card.data$educ>12\n",
        "#estimate proportion of 'compliers'\n",
        "propcomp<-mean(educ12[card.data$nearc4==1])-\n",
        "  mean(educ12[card.data$nearc4==0])\n",
        "propcomp"
      ],
      "execution_count": 7,
      "outputs": [
        {
          "output_type": "display_data",
          "data": {
            "text/plain": [
              "[1] 0.1219293"
            ],
            "text/latex": "0.121929271382552",
            "text/markdown": "0.121929271382552",
            "text/html": [
              "0.121929271382552"
            ]
          },
          "metadata": {
            "tags": []
          }
        }
      ]
    },
    {
      "cell_type": "code",
      "metadata": {
        "id": "TO2yJdPF9udo",
        "colab_type": "code",
        "outputId": "f6ce039d-a696-4f60-9b68-6931d15c0387",
        "colab": {
          "base_uri": "https://localhost:8080/",
          "height": 33
        }
      },
      "source": [
        "#intention to treat effect\n",
        "itt<-mean(card.data$lwage[card.data$nearc4==1])-\n",
        "  mean(card.data$lwage[card.data$nearc4==0])\n",
        "itt"
      ],
      "execution_count": 8,
      "outputs": [
        {
          "output_type": "display_data",
          "data": {
            "text/plain": [
              "[1] 0.1559075"
            ],
            "text/latex": "0.155907492042314",
            "text/markdown": "0.155907492042314",
            "text/html": [
              "0.155907492042314"
            ]
          },
          "metadata": {
            "tags": []
          }
        }
      ]
    },
    {
      "cell_type": "code",
      "metadata": {
        "id": "1S7neV9H90AU",
        "colab_type": "code",
        "outputId": "28681c5a-ea1e-47ad-9fe3-55e74bedbbf3",
        "colab": {
          "base_uri": "https://localhost:8080/",
          "height": 33
        }
      },
      "source": [
        "#complier average causal effect\n",
        "itt/propcomp"
      ],
      "execution_count": 9,
      "outputs": [
        {
          "output_type": "display_data",
          "data": {
            "text/plain": [
              "[1] 1.278672"
            ],
            "text/latex": "1.27867156323074",
            "text/markdown": "1.27867156323074",
            "text/html": [
              "1.27867156323074"
            ]
          },
          "metadata": {
            "tags": []
          }
        }
      ]
    },
    {
      "cell_type": "markdown",
      "metadata": {
        "id": "z8L6JER8HLh-",
        "colab_type": "text"
      },
      "source": [
        "## two stage least squares"
      ]
    },
    {
      "cell_type": "code",
      "metadata": {
        "id": "wWH-c-IZ-IjK",
        "colab_type": "code",
        "outputId": "14515b68-72aa-4442-82fd-2e3afea1720f",
        "colab": {
          "base_uri": "https://localhost:8080/",
          "height": 66
        }
      },
      "source": [
        "#stage 1: regress A on Z\n",
        "s1<-lm(educ12~card.data$nearc4)\n",
        "## get predicted value of A given Z for each subject\n",
        "predtx <-predict(s1, type = \"response\")\n",
        "table(predtx)"
      ],
      "execution_count": 10,
      "outputs": [
        {
          "output_type": "display_data",
          "data": {
            "text/plain": [
              "predtx\n",
              "0.422152560083595 0.544081831466148 \n",
              "              957              2053 "
            ]
          },
          "metadata": {
            "tags": []
          }
        }
      ]
    },
    {
      "cell_type": "code",
      "metadata": {
        "id": "Mq3UKxCt-rK4",
        "colab_type": "code",
        "outputId": "cfa07e33-ea9a-44bf-e96f-7fedb47d9413",
        "colab": {
          "base_uri": "https://localhost:8080/",
          "height": 131
        }
      },
      "source": [
        "#stage 2: regress Y on predicted value of A\n",
        "lm(card.data$lwage~predtx)"
      ],
      "execution_count": 11,
      "outputs": [
        {
          "output_type": "display_data",
          "data": {
            "text/plain": [
              "\n",
              "Call:\n",
              "lm(formula = card.data$lwage ~ predtx)\n",
              "\n",
              "Coefficients:\n",
              "(Intercept)       predtx  \n",
              "      5.616        1.279  \n"
            ]
          },
          "metadata": {
            "tags": []
          }
        }
      ]
    },
    {
      "cell_type": "code",
      "metadata": {
        "id": "IUjSpWb3-2vE",
        "colab_type": "code",
        "outputId": "2732dd44-165a-411b-bee5-002ece221e46",
        "colab": {
          "base_uri": "https://localhost:8080/",
          "height": 163
        }
      },
      "source": [
        "#2SLS using ivpack\n",
        "ivmodel=ivreg(lwage ~ educ12, ~ nearc4, x=TRUE, data=card.data)\n",
        "robust.se(ivmodel)\n",
        "\n",
        "\n",
        "ivmodel=ivreg(lwage ~ educ12 + exper + reg661 + reg662 +\n",
        "                reg663 + reg664 + reg665+ reg666 + reg667 + reg668, \n",
        "                ~ nearc4 + exper +\n",
        "                  reg661+ reg662 + reg663 + reg664 + reg665 + reg666 +\n",
        "                reg667 + reg668, x=TRUE, data=card.data)"
      ],
      "execution_count": 12,
      "outputs": [
        {
          "output_type": "stream",
          "text": [
            "[1] \"Robust Standard Errors\"\n"
          ],
          "name": "stdout"
        },
        {
          "output_type": "display_data",
          "data": {
            "text/plain": [
              "\n",
              "t test of coefficients:\n",
              "\n",
              "            Estimate Std. Error t value  Pr(>|t|)    \n",
              "(Intercept)  5.61570    0.11172 50.2637 < 2.2e-16 ***\n",
              "educ12TRUE   1.27867    0.22036  5.8026  7.21e-09 ***\n",
              "---\n",
              "Signif. codes:  0 ‘***’ 0.001 ‘**’ 0.01 ‘*’ 0.05 ‘.’ 0.1 ‘ ’ 1\n"
            ]
          },
          "metadata": {
            "tags": []
          }
        }
      ]
    }
  ]
}