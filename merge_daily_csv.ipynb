{
 "cells": [
  {
   "cell_type": "markdown",
   "metadata": {},
   "source": [
    "# Load daily files and merge them together"
   ]
  },
  {
   "cell_type": "code",
   "execution_count": null,
   "metadata": {},
   "outputs": [],
   "source": [
    "# 3. Set the start date\n",
    "Start = \"2020-01-16\""
   ]
  },
  {
   "cell_type": "code",
   "execution_count": 2,
   "metadata": {},
   "outputs": [],
   "source": [
    "# the libraries\n",
    "import numpy as np\n",
    "import pandas as pd\n",
    "import glob\n",
    "from datetime import datetime\n",
    "import matplotlib.pyplot as plt\n",
    "import re\n",
    "\n",
    "\n",
    "from IPython.core.interactiveshell import InteractiveShell\n",
    "InteractiveShell.ast_node_interactivity = \"all\""
   ]
  },
  {
   "cell_type": "code",
   "execution_count": null,
   "metadata": {},
   "outputs": [],
   "source": [
    "# what is in the directory\n",
    "! ls\n",
    "# find all document with \"keyword\" that are in CV format\n",
    "result = glob.glob('{}_*'.format('keyword'))\n",
    "result = [k for k in result if 'csv' in k]\n",
    "result.sort(reverse=False)\n",
    "print(\"List is \"+str(len(result))+\" long\")\n",
    "result"
   ]
  },
  {
   "cell_type": "code",
   "execution_count": null,
   "metadata": {},
   "outputs": [],
   "source": [
    "#merge daily file from left to right in chronological order\n",
    "for f in result:\n",
    "    data = pd.read_csv(f)\n",
    "    data = data.drop(data.columns[0], axis=1)\n",
    "    data.columns = ['Date'\n",
    "                    ,'Col1_'+str(result.index(f))\n",
    "                    ,'Col2_'+str(result.index(f))\n",
    "                    ,'Col3_'+str(result.index(f))]\n",
    "    data['Date'] = pd.to_datetime(data.Date, format='%Y-%m-%d', errors='raise', infer_datetime_format=False, exact=True)\n",
    "    print(\"iteration - \"+str(result.index(f)))\n",
    "    if result.index(f) == 0:\n",
    "        df = data\n",
    "    else:\n",
    "        df = pd.merge(df, data, on=['Date'],how='outer')  \n",
    "        df.sort_values(by=['Date'], inplace=True, ascending=True)"
   ]
  }
 ],
 "metadata": {
  "kernelspec": {
   "display_name": "Python 3",
   "language": "python",
   "name": "python3"
  },
  "language_info": {
   "codemirror_mode": {
    "name": "ipython",
    "version": 3
   },
   "file_extension": ".py",
   "mimetype": "text/x-python",
   "name": "python",
   "nbconvert_exporter": "python",
   "pygments_lexer": "ipython3",
   "version": "3.7.3"
  },
  "toc": {
   "base_numbering": 1,
   "nav_menu": {},
   "number_sections": true,
   "sideBar": true,
   "skip_h1_title": false,
   "title_cell": "Table of Contents",
   "title_sidebar": "Contents",
   "toc_cell": false,
   "toc_position": {},
   "toc_section_display": true,
   "toc_window_display": true
  }
 },
 "nbformat": 4,
 "nbformat_minor": 2
}
